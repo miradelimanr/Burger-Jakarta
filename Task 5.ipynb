{
  "cells": [
    {
      "cell_type": "markdown",
      "metadata": {
        "id": "view-in-github",
        "colab_type": "text"
      },
      "source": [
        "<a href=\"https://colab.research.google.com/github/miradelimanr/sql-python-portfolio/blob/main/Final%20Project.ipynb\" target=\"_parent\"><img src=\"https://colab.research.google.com/assets/colab-badge.svg\" alt=\"Open In Colab\"/></a>"
      ]
    },
    {
      "cell_type": "code",
      "execution_count": null,
      "metadata": {
        "colab": {
          "base_uri": "https://localhost:8080/"
        },
        "id": "Ko9Aq5JycfLU",
        "outputId": "fa8ed70b-997b-4eee-f2b4-0d1ebeefb59b"
      },
      "outputs": [
        {
          "name": "stdout",
          "output_type": "stream",
          "text": [
            "Drive already mounted at /content/drive; to attempt to forcibly remount, call drive.mount(\"/content/drive\", force_remount=True).\n"
          ]
        }
      ],
      "source": [
        "from google.colab import drive\n",
        "drive.mount('/content/drive')"
      ]
    },
    {
      "cell_type": "code",
      "execution_count": 1,
      "metadata": {
        "id": "EQgfDza5c9Ax"
      },
      "outputs": [],
      "source": [
        "#importing data\n",
        "import numpy as np\n",
        "import pandas as pd\n",
        "\n",
        "app_test = pd.read_csv('/content/drive/MyDrive/Final Project Dataset (Temp)/application_test.csv')\n",
        "app_train = pd.read_csv('/content/drive/MyDrive/Final Project Dataset (Temp)/application_train.csv')"
      ]
    },
    {
      "cell_type": "code",
      "execution_count": null,
      "metadata": {
        "colab": {
          "base_uri": "https://localhost:8080/"
        },
        "id": "wA-Tmx9m1s3z",
        "outputId": "dd96554f-40d4-4bb7-a5ac-fe990f97c369"
      },
      "outputs": [
        {
          "name": "stdout",
          "output_type": "stream",
          "text": [
            "SK_ID_CURR  TARGET  NAME_CONTRACT_TYPE  CODE_GENDER  FLAG_OWN_CAR  FLAG_OWN_REALTY  CNT_CHILDREN  AMT_INCOME_TOTAL  AMT_CREDIT  AMT_ANNUITY  AMT_GOODS_PRICE  NAME_TYPE_SUITE  NAME_INCOME_TYPE      NAME_EDUCATION_TYPE            NAME_FAMILY_STATUS    NAME_HOUSING_TYPE  REGION_POPULATION_RELATIVE  DAYS_BIRTH  DAYS_EMPLOYED  DAYS_REGISTRATION  DAYS_ID_PUBLISH  OWN_CAR_AGE  FLAG_MOBIL  FLAG_EMP_PHONE  FLAG_WORK_PHONE  FLAG_CONT_MOBILE  FLAG_PHONE  FLAG_EMAIL  OCCUPATION_TYPE        CNT_FAM_MEMBERS  REGION_RATING_CLIENT  REGION_RATING_CLIENT_W_CITY  WEEKDAY_APPR_PROCESS_START  HOUR_APPR_PROCESS_START  REG_REGION_NOT_LIVE_REGION  REG_REGION_NOT_WORK_REGION  LIVE_REGION_NOT_WORK_REGION  REG_CITY_NOT_LIVE_CITY  REG_CITY_NOT_WORK_CITY  LIVE_CITY_NOT_WORK_CITY  ORGANIZATION_TYPE       EXT_SOURCE_1  EXT_SOURCE_2  EXT_SOURCE_3  APARTMENTS_AVG  BASEMENTAREA_AVG  YEARS_BEGINEXPLUATATION_AVG  YEARS_BUILD_AVG  COMMONAREA_AVG  ELEVATORS_AVG  ENTRANCES_AVG  FLOORSMAX_AVG  FLOORSMIN_AVG  LANDAREA_AVG  LIVINGAPARTMENTS_AVG  LIVINGAREA_AVG  NONLIVINGAPARTMENTS_AVG  NONLIVINGAREA_AVG  APARTMENTS_MODE  BASEMENTAREA_MODE  YEARS_BEGINEXPLUATATION_MODE  YEARS_BUILD_MODE  COMMONAREA_MODE  ELEVATORS_MODE  ENTRANCES_MODE  FLOORSMAX_MODE  FLOORSMIN_MODE  LANDAREA_MODE  LIVINGAPARTMENTS_MODE  LIVINGAREA_MODE  NONLIVINGAPARTMENTS_MODE  NONLIVINGAREA_MODE  APARTMENTS_MEDI  BASEMENTAREA_MEDI  YEARS_BEGINEXPLUATATION_MEDI  YEARS_BUILD_MEDI  COMMONAREA_MEDI  ELEVATORS_MEDI  ENTRANCES_MEDI  FLOORSMAX_MEDI  FLOORSMIN_MEDI  LANDAREA_MEDI  LIVINGAPARTMENTS_MEDI  LIVINGAREA_MEDI  NONLIVINGAPARTMENTS_MEDI  NONLIVINGAREA_MEDI  FONDKAPREMONT_MODE     HOUSETYPE_MODE  TOTALAREA_MODE  WALLSMATERIAL_MODE  EMERGENCYSTATE_MODE  OBS_30_CNT_SOCIAL_CIRCLE  DEF_30_CNT_SOCIAL_CIRCLE  OBS_60_CNT_SOCIAL_CIRCLE  DEF_60_CNT_SOCIAL_CIRCLE  DAYS_LAST_PHONE_CHANGE  FLAG_DOCUMENT_2  FLAG_DOCUMENT_3  FLAG_DOCUMENT_4  FLAG_DOCUMENT_5  FLAG_DOCUMENT_6  FLAG_DOCUMENT_7  FLAG_DOCUMENT_8  FLAG_DOCUMENT_9  FLAG_DOCUMENT_10  FLAG_DOCUMENT_11  FLAG_DOCUMENT_12  FLAG_DOCUMENT_13  FLAG_DOCUMENT_14  FLAG_DOCUMENT_15  FLAG_DOCUMENT_16  FLAG_DOCUMENT_17  FLAG_DOCUMENT_18  FLAG_DOCUMENT_19  FLAG_DOCUMENT_20  FLAG_DOCUMENT_21  AMT_REQ_CREDIT_BUREAU_HOUR  AMT_REQ_CREDIT_BUREAU_DAY  AMT_REQ_CREDIT_BUREAU_WEEK  AMT_REQ_CREDIT_BUREAU_MON  AMT_REQ_CREDIT_BUREAU_QRT  AMT_REQ_CREDIT_BUREAU_YEAR\n",
            "100083      0       Cash loans          M            Y             Y                0             103500.0          573628.5    24435.0      463500.0         Unaccompanied    Working               Secondary / secondary special  Married               House / apartment  0.009657                    -15406      -892           -341.0             -4176            22.0         1           1               0                1                 0           0           Laborers               2.0              2                     2                            MONDAY                      18                       0                           0                           0                            0                       0                       0                        Business Entity Type 3  0.270766      0.707126      0.597192      0.1464          0.1291            0.9861                       0.8096           0.1080          0.040          0.0345         0.3333         0.3750         0.0000        0.1194                0.0933          0.0000                   0.0000             0.1492           0.1340             0.9861                        0.8171            0.1090           0.0403          0.0345          0.3333          0.3750          0.0000         0.1304                 0.0972           0.0000                    0.0000              0.1478           0.1291             0.9861                        0.8121            0.1087           0.04            0.0345          0.3333          0.3750          0.0000         0.1214                 0.0949           0.0000                    0.0000              reg oper account       block of flats  0.1324          Stone, brick        No                   2.0                       1.0                       2.0                       1.0                       -2053.0                 0                1                0                0                0                0                0                0                0                 0                 0                 0                 0                 0                 0                 0                 0                 0                 0                 0                 0.0                         0.0                        0.0                         0.0                        0.0                        3.0                           1\n",
            "338907      0       Cash loans          F            Y             Y                2             112500.0          315000.0    21181.5      315000.0         Unaccompanied    Working               Secondary / secondary special  Married               House / apartment  0.015221                    -14714      -2655          -1496.0            -735             7.0          1           1               0                1                 0           0           Medicine staff         4.0              2                     2                            MONDAY                      9                        0                           0                           0                            0                       0                       0                        Medicine                0.376188      0.758812      0.513694      0.0165          0.0000            0.9767                       0.6804           0.0015          0.000          0.0690         0.0417         0.0833         0.0226        0.0134                0.0141          0.0000                   0.0000             0.0168           0.0000             0.9767                        0.6929            0.0016           0.0000          0.0690          0.0417          0.0833          0.0231         0.0147                 0.0147           0.0000                    0.0000              0.0167           0.0000             0.9767                        0.6847            0.0015           0.00            0.0690          0.0417          0.0833          0.0230         0.0137                 0.0144           0.0000                    0.0000              reg oper account       block of flats  0.0111          Stone, brick        No                   0.0                       0.0                       0.0                       0.0                       -1669.0                 0                1                0                0                0                0                0                0                0                 0                 0                 0                 0                 0                 0                 0                 0                 0                 0                 0                 0.0                         0.0                        0.0                         0.0                        0.0                        2.0                           1\n",
            "339703      0       Cash loans          M            Y             N                0             270000.0          1507869.0   49135.5      1377000.0        Unaccompanied    Working               Higher education               Single / not married  House / apartment  0.008474                    -15022      -7547          -3408.0            -2365            3.0          1           1               0                1                 1           0           High skill tech staff  1.0              2                     2                            TUESDAY                     11                       0                           0                           0                            0                       0                       0                        Industry: type 5        0.621705      0.460178      0.283712      0.0768          0.0321            0.9916                       0.8776           0.0286          0.030          0.1207         0.2292         0.2917         0.0374        0.0779                0.0807          0.0000                   0.0000             0.0210           0.0000             0.9866                        0.8236            0.0134           0.0000          0.0345          0.1667          0.2083          0.0000         0.0698                 0.0215           0.0000                    0.0000              0.0822           0.0320             0.9906                        0.8457            0.0194           0.00            0.1207          0.1875          0.2500          0.0351         0.0701                 0.0858           0.0000                    0.0000              reg oper account       block of flats  0.0220          Panel               No                   4.0                       0.0                       4.0                       0.0                       -702.0                  0                1                0                0                0                0                0                0                0                 0                 0                 0                 0                 0                 1                 0                 0                 0                 0                 0                 0.0                         0.0                        0.0                         0.0                        0.0                        2.0                           1\n",
            "339654      0       Cash loans          M            Y             Y                1             306000.0          454500.0    46570.5      454500.0         Unaccompanied    State servant         Higher education               Single / not married  House / apartment  0.014464                    -12149      -4290          -752.0             -4700            16.0         1           1               1                1                 0           0           Laborers               2.0              2                     2                            FRIDAY                      2                        0                           0                           0                            0                       0                       0                        Transport: type 4       0.318788      0.695210      0.253963      0.0825          0.0796            0.9786                       0.7076           0.1012          0.000          0.1379         0.1667         0.2083         0.0590        0.0672                0.0703          0.0000                   0.0000             0.0840           0.0826             0.9786                        0.7190            0.1021           0.0000          0.1379          0.1667          0.2083          0.0603         0.0735                 0.0733           0.0000                    0.0000              0.0833           0.0796             0.9786                        0.7115            0.1018           0.00            0.1379          0.1667          0.2083          0.0600         0.0684                 0.0716           0.0000                    0.0000              reg oper account       block of flats  0.0553          Panel               No                   0.0                       0.0                       0.0                       0.0                       -900.0                  0                1                0                0                0                0                0                0                0                 0                 0                 0                 0                 0                 0                 0                 0                 0                 0                 0                 0.0                         0.0                        0.0                         0.0                        0.0                        0.0                           1\n",
            "339582      0       Cash loans          F            Y             Y                0             225000.0          1223010.0   48631.5      1125000.0        Unaccompanied    Commercial associate  Secondary / secondary special  Married               House / apartment  0.025164                    -18562      -2180          -6366.0            -2097            6.0          1           1               0                1                 0           0           Cooking staff          2.0              2                     2                            SATURDAY                    11                       0                           0                           0                            0                       0                       0                        Business Entity Type 3  0.400783      0.428041      0.492060      0.2876          0.1062            0.9866                       0.8164           0.0924          0.280          0.2414         0.3750         0.4167         0.0450        0.2328                0.2454          0.0077                   0.1477             0.2931           0.1102             0.9866                        0.8236            0.0933           0.2820          0.2414          0.3750          0.4167          0.0460         0.2544                 0.2557           0.0078                    0.1563              0.2904           0.1062             0.9866                        0.8189            0.0930           0.28            0.2414          0.3750          0.4167          0.0458         0.2369                 0.2498           0.0078                    0.1508              reg oper spec account  block of flats  0.2756          Panel               No                   0.0                       0.0                       0.0                       0.0                       -1961.0                 0                1                0                0                0                0                0                0                0                 0                 0                 0                 0                 0                 0                 0                 0                 0                 0                 0                 0.0                         0.0                        0.0                         0.0                        0.0                        0.0                           1\n",
            "                                                                                                                                                                                                                                                                                                                                                                                                                                                                                                                                                                                                                                                                                                                                                                                                                                                                                                                                                                                                                                                                                                                                                                                                                                                                                                                                                                                                                                                                                                                                                                                                                                                                                                                                                                                                                                                                                                                                                                                                                                                                                                                                                                                                                                                                                                                                                                                                                                                  ..\n",
            "218453      0       Cash loans          F            Y             N                2             225000.0          1078200.0   28570.5      900000.0         Unaccompanied    Commercial associate  Higher education               Married               House / apartment  0.046220                    -11907      -971           -5692.0            -288             2.0          1           1               0                1                 1           0           Sales staff            4.0              1                     1                            WEDNESDAY                   13                       0                           0                           0                            0                       0                       0                        Business Entity Type 3  0.526303      0.651932      0.415347      0.0862          0.0631            0.9786                       0.7076           0.0332          0.016          0.1517         0.2333         0.2750         0.0466        0.0699                0.0689          0.0015                   0.0043             0.0567           0.0221             0.9782                        0.7125            0.0226           0.0000          0.0345          0.1667          0.2083          0.0226         0.0496                 0.0401           0.0000                    0.0000              0.0833           0.0601             0.9786                        0.7115            0.0277           0.00            0.2069          0.1667          0.2083          0.0374         0.0684                 0.0585           0.0000                    0.0000              reg oper account       block of flats  0.0489          Stone, brick        No                   2.0                       0.0                       2.0                       0.0                       -2.0                    0                1                0                0                0                0                0                0                0                 0                 0                 1                 0                 0                 0                 0                 0                 0                 0                 0                 0.0                         0.0                        0.0                         0.0                        1.0                        4.0                           1\n",
            "218411      0       Cash loans          M            Y             N                0             225000.0          1312110.0   55593.0      1125000.0        Unaccompanied    State servant         Secondary / secondary special  Single / not married  Rented apartment   0.014464                    -8160       -1221          -7704.0            -777             9.0          1           1               1                1                 0           0           Core staff             1.0              2                     2                            FRIDAY                      10                       0                           1                           1                            1                       1                       1                        Military                0.236380      0.159134      0.263647      0.0773          0.0676            0.9901                       0.8640           0.0314          0.000          0.1724         0.1667         0.2083         0.0000        0.0630                0.0697          0.0000                   0.0000             0.0788           0.0702             0.9901                        0.8693            0.0317           0.0000          0.1724          0.1667          0.2083          0.0000         0.0689                 0.0726           0.0000                    0.0000              0.0781           0.0676             0.9901                        0.8658            0.0316           0.00            0.1724          0.1667          0.2083          0.0000         0.0641                 0.0709           0.0000                    0.0000              reg oper account       block of flats  0.0729          Panel               No                   0.0                       0.0                       0.0                       0.0                       -654.0                  0                1                0                0                0                0                0                0                0                 0                 0                 0                 0                 0                 0                 0                 0                 0                 0                 0                 0.0                         0.0                        0.0                         0.0                        0.0                        2.0                           1\n",
            "218396      0       Cash loans          F            Y             N                0             135000.0          450000.0    21888.0      450000.0         Unaccompanied    Commercial associate  Secondary / secondary special  Civil marriage        With parents       0.035792                    -11957      -3076          -5921.0            -1206            12.0         1           1               0                1                 1           0           Sales staff            2.0              2                     2                            THURSDAY                    13                       0                           0                           0                            0                       0                       0                        Self-employed           0.342426      0.497126      0.063805      0.3381          0.2491            0.9836                       0.7756           0.0698          0.360          0.3103         0.3333         0.3750         0.1606        0.2723                0.3420          0.0154                   0.0076             0.3445           0.2585             0.9836                        0.7844            0.0705           0.3625          0.3103          0.3333          0.3750          0.1642         0.2975                 0.3564           0.0156                    0.0081              0.3414           0.2491             0.9836                        0.7786            0.0703           0.36            0.3103          0.3333          0.3750          0.1633         0.2770                 0.3482           0.0155                    0.0078              reg oper account       block of flats  0.2707          Panel               No                   2.0                       1.0                       1.0                       1.0                       -575.0                  0                0                0                0                0                0                1                0                0                 0                 0                 0                 0                 0                 0                 0                 0                 0                 0                 0                 0.0                         0.0                        0.0                         0.0                        0.0                        1.0                           1\n",
            "218367      0       Revolving loans     F            Y             N                1             112500.0          270000.0    13500.0      270000.0         Unaccompanied    Working               Secondary / secondary special  Separated             With parents       0.009657                    -13450      -4512          -4364.0            -5287            21.0         1           1               0                1                 0           0           High skill tech staff  2.0              2                     2                            MONDAY                      10                       0                           0                           0                            0                       0                       0                        Transport: type 4       0.274074      0.554373      0.667458      0.0082          0.0000            0.9732                       0.6328           0.0000          0.000          0.0345         0.0417         0.0833         0.0248        0.0067                0.0094          0.0000                   0.0000             0.0084           0.0000             0.9732                        0.6472            0.0000           0.0000          0.0345          0.0417          0.0833          0.0254         0.0073                 0.0098           0.0000                    0.0000              0.0083           0.0000             0.9732                        0.6377            0.0000           0.00            0.0345          0.0417          0.0833          0.0252         0.0068                 0.0095           0.0000                    0.0000              reg oper spec account  block of flats  0.0074          Wooden              No                   0.0                       0.0                       0.0                       0.0                       -602.0                  0                0                0                0                0                0                0                0                0                 0                 0                 0                 0                 0                 0                 0                 0                 0                 0                 0                 0.0                         0.0                        0.0                         0.0                        0.0                        0.0                           1\n",
            "456226      0       Cash loans          F            Y             Y                0             225000.0          500566.5    34969.5      472500.0         Unaccompanied    Commercial associate  Secondary / secondary special  Married               House / apartment  0.031329                    -14106      -226           -2463.0            -933             11.0         1           1               0                1                 0           0           Managers               2.0              2                     2                            THURSDAY                    15                       0                           0                           0                            0                       0                       0                        Telecom                 0.470808      0.737905      0.394495      0.0392          0.0402            0.9737                       0.6396           0.0037          0.000          0.0690         0.1667         0.2083         0.0179        0.0311                0.0307          0.0039                   0.0049             0.0399           0.0417             0.9737                        0.6537            0.0038           0.0000          0.0690          0.1667          0.2083          0.0183         0.0340                 0.0320           0.0039                    0.0052              0.0396           0.0402             0.9737                        0.6444            0.0038           0.00            0.0690          0.1667          0.2083          0.0182         0.0316                 0.0312           0.0039                    0.0051              not specified          block of flats  0.0272          Block               No                   0.0                       0.0                       0.0                       0.0                       -611.0                  0                0                0                0                0                0                1                0                0                 0                 0                 0                 0                 0                 0                 0                 0                 0                 0                 0                 0.0                         0.0                        0.0                         0.0                        0.0                        1.0                           1\n",
            "Length: 8603, dtype: int64\n"
          ]
        }
      ],
      "source": [
        "#complete column exploration (after dropping NaN)\n",
        "print(app_train.value_counts())"
      ]
    },
    {
      "cell_type": "code",
      "execution_count": null,
      "metadata": {
        "colab": {
          "base_uri": "https://localhost:8080/"
        },
        "id": "yyUOSOiJRkSa",
        "outputId": "9ba98156-d9a1-40d8-c4c0-432da3a1ddcd"
      },
      "outputs": [
        {
          "name": "stdout",
          "output_type": "stream",
          "text": [
            "SK_ID_CURR  NAME_CONTRACT_TYPE  CODE_GENDER  FLAG_OWN_CAR  FLAG_OWN_REALTY  CNT_CHILDREN  AMT_INCOME_TOTAL  AMT_CREDIT  AMT_ANNUITY  AMT_GOODS_PRICE  NAME_TYPE_SUITE  NAME_INCOME_TYPE      NAME_EDUCATION_TYPE            NAME_FAMILY_STATUS    NAME_HOUSING_TYPE  REGION_POPULATION_RELATIVE  DAYS_BIRTH  DAYS_EMPLOYED  DAYS_REGISTRATION  DAYS_ID_PUBLISH  OWN_CAR_AGE  FLAG_MOBIL  FLAG_EMP_PHONE  FLAG_WORK_PHONE  FLAG_CONT_MOBILE  FLAG_PHONE  FLAG_EMAIL  OCCUPATION_TYPE  CNT_FAM_MEMBERS  REGION_RATING_CLIENT  REGION_RATING_CLIENT_W_CITY  WEEKDAY_APPR_PROCESS_START  HOUR_APPR_PROCESS_START  REG_REGION_NOT_LIVE_REGION  REG_REGION_NOT_WORK_REGION  LIVE_REGION_NOT_WORK_REGION  REG_CITY_NOT_LIVE_CITY  REG_CITY_NOT_WORK_CITY  LIVE_CITY_NOT_WORK_CITY  ORGANIZATION_TYPE       EXT_SOURCE_1  EXT_SOURCE_2  EXT_SOURCE_3  APARTMENTS_AVG  BASEMENTAREA_AVG  YEARS_BEGINEXPLUATATION_AVG  YEARS_BUILD_AVG  COMMONAREA_AVG  ELEVATORS_AVG  ENTRANCES_AVG  FLOORSMAX_AVG  FLOORSMIN_AVG  LANDAREA_AVG  LIVINGAPARTMENTS_AVG  LIVINGAREA_AVG  NONLIVINGAPARTMENTS_AVG  NONLIVINGAREA_AVG  APARTMENTS_MODE  BASEMENTAREA_MODE  YEARS_BEGINEXPLUATATION_MODE  YEARS_BUILD_MODE  COMMONAREA_MODE  ELEVATORS_MODE  ENTRANCES_MODE  FLOORSMAX_MODE  FLOORSMIN_MODE  LANDAREA_MODE  LIVINGAPARTMENTS_MODE  LIVINGAREA_MODE  NONLIVINGAPARTMENTS_MODE  NONLIVINGAREA_MODE  APARTMENTS_MEDI  BASEMENTAREA_MEDI  YEARS_BEGINEXPLUATATION_MEDI  YEARS_BUILD_MEDI  COMMONAREA_MEDI  ELEVATORS_MEDI  ENTRANCES_MEDI  FLOORSMAX_MEDI  FLOORSMIN_MEDI  LANDAREA_MEDI  LIVINGAPARTMENTS_MEDI  LIVINGAREA_MEDI  NONLIVINGAPARTMENTS_MEDI  NONLIVINGAREA_MEDI  FONDKAPREMONT_MODE     HOUSETYPE_MODE  TOTALAREA_MODE  WALLSMATERIAL_MODE  EMERGENCYSTATE_MODE  OBS_30_CNT_SOCIAL_CIRCLE  DEF_30_CNT_SOCIAL_CIRCLE  OBS_60_CNT_SOCIAL_CIRCLE  DEF_60_CNT_SOCIAL_CIRCLE  DAYS_LAST_PHONE_CHANGE  FLAG_DOCUMENT_2  FLAG_DOCUMENT_3  FLAG_DOCUMENT_4  FLAG_DOCUMENT_5  FLAG_DOCUMENT_6  FLAG_DOCUMENT_7  FLAG_DOCUMENT_8  FLAG_DOCUMENT_9  FLAG_DOCUMENT_10  FLAG_DOCUMENT_11  FLAG_DOCUMENT_12  FLAG_DOCUMENT_13  FLAG_DOCUMENT_14  FLAG_DOCUMENT_15  FLAG_DOCUMENT_16  FLAG_DOCUMENT_17  FLAG_DOCUMENT_18  FLAG_DOCUMENT_19  FLAG_DOCUMENT_20  FLAG_DOCUMENT_21  AMT_REQ_CREDIT_BUREAU_HOUR  AMT_REQ_CREDIT_BUREAU_DAY  AMT_REQ_CREDIT_BUREAU_WEEK  AMT_REQ_CREDIT_BUREAU_MON  AMT_REQ_CREDIT_BUREAU_QRT  AMT_REQ_CREDIT_BUREAU_YEAR\n",
            "100107      Cash loans          M            Y             Y                0             180000.0          296280.0    21690.0      225000.0         Unaccompanied    Working               Secondary / secondary special  Civil marriage        House / apartment  0.032561                    -13563      -1007          -5719.0            -4044            14.0         1           1               0                1                 0           1           Laborers         2.0              1                     1                            TUESDAY                     15                       0                           0                           0                            0                       0                       0                        Business Entity Type 3  0.344165      0.684407      0.263647      0.0371          0.0361            0.9513                       0.3336           0.0132          0.00           0.1379         0.1250         0.1667         0.0320        0.0286                0.0613          0.0077                   0.0007             0.0378           0.0375             0.9513                        0.3597            0.0134           0.0000          0.1379          0.1250          0.1667          0.0327         0.0312                 0.0639           0.0078                    0.0008              0.0375           0.0361             0.9513                        0.3425            0.0133           0.00            0.1379          0.1250          0.1667          0.0326         0.0291                 0.0624           0.0078                    0.0007              reg oper account       block of flats  0.0484          Stone, brick        No                   2.0                       0.0                       2.0                       0.0                       -317.0                  0                0                0                0                0                0                1                0                0                 0                 0                 0                 0                 0                 0                 0                 0                 0                 0                 0                 0.0                         0.0                        0.0                         0.0                        1.0                        3.0                           1\n",
            "335779      Cash loans          M            Y             N                1             225000.0          790830.0    57676.5      675000.0         Unaccompanied    Working               Secondary / secondary special  Married               House / apartment  0.006629                    -18272      -4605          -5196.0            -1715            3.0          1           1               1                1                 1           0           Laborers         3.0              2                     2                            THURSDAY                    10                       0                           0                           0                            0                       0                       0                        Industry: type 9        0.626088      0.180034      0.792264      0.0124          0.0000            0.9826                       0.7620           0.0221          0.00           0.0948         0.0417         0.0417         0.0367        0.0101                0.0136          0.0000                   0.0066             0.0126           0.0000             0.9826                        0.7713            0.0160           0.0000          0.1034          0.0417          0.0417          0.0351         0.0110                 0.0102           0.0000                    0.0047              0.0125           0.0000             0.9826                        0.7652            0.0243           0.00            0.1034          0.0417          0.0417          0.0365         0.0103                 0.0150           0.0000                    0.0073              not specified          block of flats  0.0087          Wooden              No                   0.0                       0.0                       0.0                       0.0                       -1578.0                 0                1                0                0                0                0                0                0                0                 0                 0                 0                 0                 0                 0                 0                 0                 0                 0                 0                 0.0                         0.0                        0.0                         0.0                        1.0                        1.0                           1\n",
            "338250      Cash loans          M            Y             Y                0             405000.0          1063138.5   54414.0      873000.0         Unaccompanied    Commercial associate  Secondary / secondary special  Married               House / apartment  0.072508                    -20268      -1155          -6979.0            -3045            14.0         1           1               0                1                 1           0           Security staff   2.0              1                     1                            TUESDAY                     14                       0                           0                           0                            0                       0                       0                        Security                0.579165      0.694723      0.524496      0.0701          0.1078            0.9727                       0.6260           0.0074          0.00           0.1217         0.1667         0.0158         0.0061        0.0572                0.0581          0.0015                   0.0036             0.0630           0.1122             0.9732                        0.6472            0.0000           0.0000          0.1379          0.1667          0.0000          0.0000         0.0551                 0.0507           0.0000                    0.0034              0.0625           0.1081             0.9732                        0.6377            0.0083           0.00            0.1379          0.1667          0.0000          0.0000         0.0513                 0.0519           0.0000                    0.0033              reg oper account       block of flats  0.0547          Stone, brick        No                   1.0                       0.0                       1.0                       0.0                       -1740.0                 0                1                0                0                0                0                0                0                0                 0                 0                 0                 0                 0                 0                 0                 0                 0                 0                 0                 0.0                         0.0                        0.0                         0.0                        0.0                        5.0                           1\n",
            "337864      Cash loans          M            Y             Y                1             112500.0          301896.0    23490.0      252000.0         Unaccompanied    Working               Secondary / secondary special  Married               House / apartment  0.018634                    -10197      -900           -8512.0            -2738            8.0          1           1               0                1                 0           0           Laborers         3.0              2                     2                            WEDNESDAY                   11                       0                           0                           0                            0                       0                       0                        Business Entity Type 3  0.498308      0.355406      0.673830      0.0825          0.0804            0.9767                       0.6804           0.0403          0.00           0.1379         0.1667         0.2083         0.0418        0.0672                0.0703          0.0000                   0.0000             0.0840           0.0834             0.9767                        0.6929            0.0407           0.0000          0.1379          0.1667          0.2083          0.0428         0.0735                 0.0732           0.0000                    0.0000              0.0833           0.0804             0.9767                        0.6847            0.0406           0.00            0.1379          0.1667          0.2083          0.0425         0.0684                 0.0716           0.0000                    0.0000              reg oper account       block of flats  0.0740          Panel               No                   0.0                       0.0                       0.0                       0.0                       -81.0                   0                1                0                0                0                0                0                0                0                 0                 0                 0                 0                 0                 0                 0                 0                 0                 0                 0                 0.0                         0.0                        0.0                         0.0                        0.0                        5.0                           1\n",
            "337746      Cash loans          M            Y             Y                0             220500.0          157500.0    16137.0      157500.0         Unaccompanied    Commercial associate  Secondary / secondary special  Married               House / apartment  0.031329                    -19661      -478           -5110.0            -3209            9.0          1           1               1                1                 1           0           Sales staff      2.0              2                     2                            MONDAY                      18                       0                           0                           0                            0                       0                       0                        Business Entity Type 3  0.722564      0.642295      0.643026      0.1376          0.0320            0.9891                       0.8232           0.0291          0.14           0.1207         0.3542         0.3750         0.0424        0.0908                0.1470          0.0000                   0.0000             0.1134           0.0000             0.9871                        0.8301            0.0293           0.1208          0.1034          0.3333          0.3750          0.0219         0.0992                 0.1238           0.0000                    0.0000              0.1390           0.0320             0.9891                        0.8256            0.0293           0.14            0.1207          0.3542          0.3750          0.0431         0.0923                 0.1496           0.0000                    0.0000              reg oper spec account  block of flats  0.0934          Stone, brick        No                   0.0                       0.0                       0.0                       0.0                       -2314.0                 0                1                0                0                0                0                0                0                0                 0                 0                 0                 0                 0                 0                 0                 0                 0                 0                 0                 0.0                         0.0                        0.0                         0.0                        0.0                        2.0                           1\n",
            "                                                                                                                                                                                                                                                                                                                                                                                                                                                                                                                                                                                                                                                                                                                                                                                                                                                                                                                                                                                                                                                                                                                                                                                                                                                                                                                                                                                                                                                                                                                                                                                                                                                                                                                                                                                                                                                                                                                                                                                                                                                                                                                                                                                                                                                                                                                                                                                                                                    ..\n",
            "211296      Cash loans          M            Y             Y                1             225000.0          537471.0    56569.5      495000.0         Unaccompanied    Working               Secondary / secondary special  Married               House / apartment  0.031329                    -13516      -802           -773.0             -4590            8.0          1           1               0                1                 0           0           Drivers          3.0              2                     2                            FRIDAY                      13                       0                           0                           0                            0                       0                       0                        Self-employed           0.309470      0.495164      0.461482      0.1381          0.0116            0.9767                       0.6804           0.0207          0.00           0.0690         0.1667         0.2083         0.0072        0.0815                0.0274          0.1429                   0.0040             0.1408           0.0120             0.9767                        0.6929            0.0209           0.0000          0.0690          0.1667          0.2083          0.0074         0.0891                 0.0286           0.1440                    0.0042              0.1395           0.0116             0.9767                        0.6847            0.0208           0.00            0.0690          0.1667          0.2083          0.0073         0.0829                 0.0279           0.1436                    0.0041              reg oper account       block of flats  0.0224          Stone, brick        No                   1.0                       0.0                       1.0                       0.0                       -678.0                  0                1                0                0                0                0                0                0                0                 0                 0                 0                 0                 0                 0                 0                 0                 0                 0                 0                 0.0                         0.0                        0.0                         0.0                        0.0                        1.0                           1\n",
            "211131      Cash loans          F            Y             Y                1             81000.0           148500.0    15723.0      148500.0         Unaccompanied    Working               Secondary / secondary special  Married               House / apartment  0.015221                    -11966      -1843          -11661.0           -3149            20.0         1           1               0                1                 1           0           Laborers         3.0              2                     2                            THURSDAY                    11                       0                           0                           0                            0                       1                       1                        Industry: type 3        0.455422      0.107280      0.263647      0.1227          0.1048            0.9831                       0.7688           0.0160          0.00           0.2759         0.1667         0.2083         0.0881        0.1000                0.1145          0.0000                   0.0000             0.1250           0.1088             0.9831                        0.7779            0.0162           0.0000          0.2759          0.1667          0.2083          0.0901         0.1093                 0.1193           0.0000                    0.0000              0.1239           0.1048             0.9831                        0.7719            0.0161           0.00            0.2759          0.1667          0.2083          0.0896         0.1018                 0.1166           0.0000                    0.0000              reg oper account       block of flats  0.1168          Panel               No                   1.0                       0.0                       1.0                       0.0                        0.0                    0                0                0                0                0                0                1                0                0                 0                 0                 0                 0                 0                 0                 0                 0                 0                 0                 0                 0.0                         0.0                        0.0                         0.0                        0.0                        6.0                           1\n",
            "210523      Cash loans          M            Y             N                0             276300.0          450000.0    23107.5      450000.0         Unaccompanied    Working               Incomplete higher              Single / not married  Office apartment   0.035792                    -10083      -1733          -4696.0            -2546            9.0          1           1               0                1                 0           0           Laborers         1.0              2                     2                            SUNDAY                      12                       0                           0                           0                            1                       1                       0                        Business Entity Type 3  0.217338      0.730953      0.576209      0.0732          0.0979            0.9925                       0.8708           0.0277          0.00           0.1207         0.1667         0.0417         0.0603        0.0836                0.1084          0.0019                   0.0017             0.0137           0.0792             0.9970                        0.7975            0.0102           0.0000          0.0345          0.1667          0.0417          0.0670         0.0735                 0.0899           0.0000                    0.0000              0.0843           0.0979             0.9970                        0.8725            0.0278           0.00            0.1207          0.1667          0.0417          0.0666         0.0851                 0.1104           0.0019                    0.0017              reg oper account       block of flats  0.0188          Panel               No                   2.0                       0.0                       2.0                       0.0                        0.0                    0                1                0                0                0                0                0                0                0                 0                 0                 0                 0                 0                 0                 0                 0                 0                 0                 0                 0.0                         0.0                        0.0                         0.0                        1.0                        2.0                           1\n",
            "210401      Cash loans          M            Y             N                0             180000.0          312840.0    19269.0      247500.0         Unaccompanied    Working               Higher education               Married               House / apartment  0.025164                    -11895      -281           -1376.0            -2787            3.0          1           1               0                1                 1           1           Drivers          2.0              2                     2                            TUESDAY                     15                       0                           1                           1                            0                       1                       1                        Business Entity Type 3  0.218243      0.605767      0.709189      0.1124          0.0563            0.9975                       0.9660           0.0220          0.12           0.1034         0.3750         0.4167         0.0146        0.0883                0.1143          0.0154                   0.0226             0.1145           0.0584             0.9975                        0.9673            0.0223           0.1208          0.1034          0.3750          0.4167          0.0149         0.0964                 0.1191           0.0156                    0.0239              0.1135           0.0563             0.9975                        0.9665            0.0222           0.12            0.1034          0.3750          0.4167          0.0148         0.0898                 0.1164           0.0155                    0.0231              reg oper account       block of flats  0.1248          Panel               No                   0.0                       0.0                       0.0                       0.0                       -2736.0                 0                0                0                0                0                0                1                0                0                 0                 0                 0                 0                 0                 0                 0                 0                 0                 0                 0                 0.0                         0.0                        0.0                         0.0                        0.0                        2.0                           1\n",
            "455959      Cash loans          M            Y             N                0             225000.0          275373.0    32679.0      225000.0         Unaccompanied    Commercial associate  Secondary / secondary special  Single / not married  House / apartment  0.007274                    -11637      -4541          -5163.0            -3751            13.0         1           1               1                1                 1           1           Laborers         1.0              2                     2                            MONDAY                      11                       0                           0                           0                            0                       0                       0                        Business Entity Type 3  0.225121      0.246379      0.524496      0.1000          0.0862            0.9786                       0.7076           0.0410          0.00           0.2069         0.1667         0.0000         0.0399        0.0815                0.0628          0.0116                   0.0072             0.1019           0.0895             0.9786                        0.7190            0.0414           0.0000          0.2069          0.1667          0.0000          0.0408         0.0891                 0.0654           0.0117                    0.0077              0.1010           0.0862             0.9786                        0.7115            0.0412           0.00            0.2069          0.1667          0.0000          0.0406         0.0829                 0.0639           0.0116                    0.0074              reg oper account       block of flats  0.0720          Panel               No                   2.0                       0.0                       1.0                       0.0                        0.0                    0                0                0                1                0                0                0                0                0                 0                 0                 0                 0                 0                 0                 0                 0                 0                 0                 0                 0.0                         0.0                        0.0                         0.0                        1.0                        1.0                           1\n",
            "Length: 1739, dtype: int64\n"
          ]
        }
      ],
      "source": [
        "print(app_test.value_counts())"
      ]
    },
    {
      "cell_type": "code",
      "execution_count": null,
      "metadata": {
        "colab": {
          "base_uri": "https://localhost:8080/",
          "height": 424
        },
        "id": "mIS2g_T61eLI",
        "outputId": "cffdf9f5-3adf-4d22-d8c2-28fbf83044d5"
      },
      "outputs": [
        {
          "data": {
            "text/html": [
              "\n",
              "  <div id=\"df-c706e703-e2c4-4fbb-81d9-e4444847649e\">\n",
              "    <div class=\"colab-df-container\">\n",
              "      <div>\n",
              "<style scoped>\n",
              "    .dataframe tbody tr th:only-of-type {\n",
              "        vertical-align: middle;\n",
              "    }\n",
              "\n",
              "    .dataframe tbody tr th {\n",
              "        vertical-align: top;\n",
              "    }\n",
              "\n",
              "    .dataframe thead th {\n",
              "        text-align: right;\n",
              "    }\n",
              "</style>\n",
              "<table border=\"1\" class=\"dataframe\">\n",
              "  <thead>\n",
              "    <tr style=\"text-align: right;\">\n",
              "      <th></th>\n",
              "      <th>AMT_CREDIT</th>\n",
              "      <th>AMT_ANNUITY</th>\n",
              "      <th>NAME_TYPE_SUITE</th>\n",
              "      <th>NAME_INCOME_TYPE</th>\n",
              "      <th>OCCUPATION_TYPE</th>\n",
              "      <th>FLAG_CONT_MOBILE</th>\n",
              "    </tr>\n",
              "  </thead>\n",
              "  <tbody>\n",
              "    <tr>\n",
              "      <th>84</th>\n",
              "      <td>735579.0</td>\n",
              "      <td>32400.0</td>\n",
              "      <td>Family</td>\n",
              "      <td>Working</td>\n",
              "      <td>Private service staff</td>\n",
              "      <td>1</td>\n",
              "    </tr>\n",
              "    <tr>\n",
              "      <th>164</th>\n",
              "      <td>270000.0</td>\n",
              "      <td>17253.0</td>\n",
              "      <td>Unaccompanied</td>\n",
              "      <td>Working</td>\n",
              "      <td>Private service staff</td>\n",
              "      <td>1</td>\n",
              "    </tr>\n",
              "    <tr>\n",
              "      <th>218</th>\n",
              "      <td>550980.0</td>\n",
              "      <td>30897.0</td>\n",
              "      <td>Unaccompanied</td>\n",
              "      <td>Working</td>\n",
              "      <td>Private service staff</td>\n",
              "      <td>1</td>\n",
              "    </tr>\n",
              "    <tr>\n",
              "      <th>561</th>\n",
              "      <td>495000.0</td>\n",
              "      <td>31635.0</td>\n",
              "      <td>NaN</td>\n",
              "      <td>Working</td>\n",
              "      <td>Private service staff</td>\n",
              "      <td>1</td>\n",
              "    </tr>\n",
              "    <tr>\n",
              "      <th>610</th>\n",
              "      <td>225000.0</td>\n",
              "      <td>17905.5</td>\n",
              "      <td>Spouse, partner</td>\n",
              "      <td>Working</td>\n",
              "      <td>Private service staff</td>\n",
              "      <td>1</td>\n",
              "    </tr>\n",
              "    <tr>\n",
              "      <th>...</th>\n",
              "      <td>...</td>\n",
              "      <td>...</td>\n",
              "      <td>...</td>\n",
              "      <td>...</td>\n",
              "      <td>...</td>\n",
              "      <td>...</td>\n",
              "    </tr>\n",
              "    <tr>\n",
              "      <th>48290</th>\n",
              "      <td>450000.0</td>\n",
              "      <td>30073.5</td>\n",
              "      <td>Unaccompanied</td>\n",
              "      <td>Working</td>\n",
              "      <td>Private service staff</td>\n",
              "      <td>1</td>\n",
              "    </tr>\n",
              "    <tr>\n",
              "      <th>48309</th>\n",
              "      <td>675000.0</td>\n",
              "      <td>45108.0</td>\n",
              "      <td>Unaccompanied</td>\n",
              "      <td>Working</td>\n",
              "      <td>Private service staff</td>\n",
              "      <td>1</td>\n",
              "    </tr>\n",
              "    <tr>\n",
              "      <th>48389</th>\n",
              "      <td>225000.0</td>\n",
              "      <td>11488.5</td>\n",
              "      <td>Unaccompanied</td>\n",
              "      <td>Working</td>\n",
              "      <td>Private service staff</td>\n",
              "      <td>1</td>\n",
              "    </tr>\n",
              "    <tr>\n",
              "      <th>48494</th>\n",
              "      <td>248760.0</td>\n",
              "      <td>26118.0</td>\n",
              "      <td>Unaccompanied</td>\n",
              "      <td>Commercial associate</td>\n",
              "      <td>Private service staff</td>\n",
              "      <td>1</td>\n",
              "    </tr>\n",
              "    <tr>\n",
              "      <th>48647</th>\n",
              "      <td>225000.0</td>\n",
              "      <td>17775.0</td>\n",
              "      <td>Unaccompanied</td>\n",
              "      <td>Working</td>\n",
              "      <td>Private service staff</td>\n",
              "      <td>1</td>\n",
              "    </tr>\n",
              "  </tbody>\n",
              "</table>\n",
              "<p>455 rows × 6 columns</p>\n",
              "</div>\n",
              "      <button class=\"colab-df-convert\" onclick=\"convertToInteractive('df-c706e703-e2c4-4fbb-81d9-e4444847649e')\"\n",
              "              title=\"Convert this dataframe to an interactive table.\"\n",
              "              style=\"display:none;\">\n",
              "        \n",
              "  <svg xmlns=\"http://www.w3.org/2000/svg\" height=\"24px\"viewBox=\"0 0 24 24\"\n",
              "       width=\"24px\">\n",
              "    <path d=\"M0 0h24v24H0V0z\" fill=\"none\"/>\n",
              "    <path d=\"M18.56 5.44l.94 2.06.94-2.06 2.06-.94-2.06-.94-.94-2.06-.94 2.06-2.06.94zm-11 1L8.5 8.5l.94-2.06 2.06-.94-2.06-.94L8.5 2.5l-.94 2.06-2.06.94zm10 10l.94 2.06.94-2.06 2.06-.94-2.06-.94-.94-2.06-.94 2.06-2.06.94z\"/><path d=\"M17.41 7.96l-1.37-1.37c-.4-.4-.92-.59-1.43-.59-.52 0-1.04.2-1.43.59L10.3 9.45l-7.72 7.72c-.78.78-.78 2.05 0 2.83L4 21.41c.39.39.9.59 1.41.59.51 0 1.02-.2 1.41-.59l7.78-7.78 2.81-2.81c.8-.78.8-2.07 0-2.86zM5.41 20L4 18.59l7.72-7.72 1.47 1.35L5.41 20z\"/>\n",
              "  </svg>\n",
              "      </button>\n",
              "      \n",
              "  <style>\n",
              "    .colab-df-container {\n",
              "      display:flex;\n",
              "      flex-wrap:wrap;\n",
              "      gap: 12px;\n",
              "    }\n",
              "\n",
              "    .colab-df-convert {\n",
              "      background-color: #E8F0FE;\n",
              "      border: none;\n",
              "      border-radius: 50%;\n",
              "      cursor: pointer;\n",
              "      display: none;\n",
              "      fill: #1967D2;\n",
              "      height: 32px;\n",
              "      padding: 0 0 0 0;\n",
              "      width: 32px;\n",
              "    }\n",
              "\n",
              "    .colab-df-convert:hover {\n",
              "      background-color: #E2EBFA;\n",
              "      box-shadow: 0px 1px 2px rgba(60, 64, 67, 0.3), 0px 1px 3px 1px rgba(60, 64, 67, 0.15);\n",
              "      fill: #174EA6;\n",
              "    }\n",
              "\n",
              "    [theme=dark] .colab-df-convert {\n",
              "      background-color: #3B4455;\n",
              "      fill: #D2E3FC;\n",
              "    }\n",
              "\n",
              "    [theme=dark] .colab-df-convert:hover {\n",
              "      background-color: #434B5C;\n",
              "      box-shadow: 0px 1px 3px 1px rgba(0, 0, 0, 0.15);\n",
              "      filter: drop-shadow(0px 1px 2px rgba(0, 0, 0, 0.3));\n",
              "      fill: #FFFFFF;\n",
              "    }\n",
              "  </style>\n",
              "\n",
              "      <script>\n",
              "        const buttonEl =\n",
              "          document.querySelector('#df-c706e703-e2c4-4fbb-81d9-e4444847649e button.colab-df-convert');\n",
              "        buttonEl.style.display =\n",
              "          google.colab.kernel.accessAllowed ? 'block' : 'none';\n",
              "\n",
              "        async function convertToInteractive(key) {\n",
              "          const element = document.querySelector('#df-c706e703-e2c4-4fbb-81d9-e4444847649e');\n",
              "          const dataTable =\n",
              "            await google.colab.kernel.invokeFunction('convertToInteractive',\n",
              "                                                     [key], {});\n",
              "          if (!dataTable) return;\n",
              "\n",
              "          const docLinkHtml = 'Like what you see? Visit the ' +\n",
              "            '<a target=\"_blank\" href=https://colab.research.google.com/notebooks/data_table.ipynb>data table notebook</a>'\n",
              "            + ' to learn more about interactive tables.';\n",
              "          element.innerHTML = '';\n",
              "          dataTable['output_type'] = 'display_data';\n",
              "          await google.colab.output.renderOutput(dataTable, element);\n",
              "          const docLink = document.createElement('div');\n",
              "          docLink.innerHTML = docLinkHtml;\n",
              "          element.appendChild(docLink);\n",
              "        }\n",
              "      </script>\n",
              "    </div>\n",
              "  </div>\n",
              "  "
            ],
            "text/plain": [
              "       AMT_CREDIT  AMT_ANNUITY  NAME_TYPE_SUITE      NAME_INCOME_TYPE  \\\n",
              "84       735579.0      32400.0           Family               Working   \n",
              "164      270000.0      17253.0    Unaccompanied               Working   \n",
              "218      550980.0      30897.0    Unaccompanied               Working   \n",
              "561      495000.0      31635.0              NaN               Working   \n",
              "610      225000.0      17905.5  Spouse, partner               Working   \n",
              "...           ...          ...              ...                   ...   \n",
              "48290    450000.0      30073.5    Unaccompanied               Working   \n",
              "48309    675000.0      45108.0    Unaccompanied               Working   \n",
              "48389    225000.0      11488.5    Unaccompanied               Working   \n",
              "48494    248760.0      26118.0    Unaccompanied  Commercial associate   \n",
              "48647    225000.0      17775.0    Unaccompanied               Working   \n",
              "\n",
              "             OCCUPATION_TYPE  FLAG_CONT_MOBILE  \n",
              "84     Private service staff                 1  \n",
              "164    Private service staff                 1  \n",
              "218    Private service staff                 1  \n",
              "561    Private service staff                 1  \n",
              "610    Private service staff                 1  \n",
              "...                      ...               ...  \n",
              "48290  Private service staff                 1  \n",
              "48309  Private service staff                 1  \n",
              "48389  Private service staff                 1  \n",
              "48494  Private service staff                 1  \n",
              "48647  Private service staff                 1  \n",
              "\n",
              "[455 rows x 6 columns]"
            ]
          },
          "execution_count": 8,
          "metadata": {},
          "output_type": "execute_result"
        }
      ],
      "source": [
        "#related sorting\n",
        "app_test_1 = app_test [['AMT_CREDIT', 'AMT_ANNUITY', 'NAME_TYPE_SUITE','NAME_INCOME_TYPE', 'OCCUPATION_TYPE', 'FLAG_CONT_MOBILE']]\n",
        "\n",
        "#private service staff specific\n",
        "def loans_credit():\n",
        "  app_test_2 = app_test_1[(app_test['OCCUPATION_TYPE'] == 'Private service staff')]\n",
        "  return app_test_2\n",
        "\n",
        "loans_credit()"
      ]
    },
    {
      "cell_type": "code",
      "execution_count": null,
      "metadata": {
        "colab": {
          "base_uri": "https://localhost:8080/"
        },
        "id": "FhjGUMUGw4OF",
        "outputId": "376750a6-ac64-4de5-fcd5-c4751efa3919"
      },
      "outputs": [
        {
          "name": "stdout",
          "output_type": "stream",
          "text": [
            "[[0.13199213 0.09932303]\n",
            " [0.05386404 0.06498939]\n",
            " [0.15730337 0.22907952]\n",
            " ...\n",
            " [0.16640562 0.20367788]\n",
            " [0.05617978 0.05729009]\n",
            " [0.11374944 0.14663029]]\n"
          ]
        }
      ],
      "source": [
        "#data preprocessing\n",
        "\n",
        "#dropping NaN\n",
        "app_train['OCCUPATION_TYPE'].dropna(inplace=True)\n",
        "app_test['OCCUPATION_TYPE'].dropna(inplace=True)\n",
        "\n",
        "#normalize the scale\n",
        "from sklearn.preprocessing import MinMaxScaler\n",
        "X_train = app_train[['AMT_CREDIT', 'AMT_ANNUITY']]\n",
        "X_test = app_test[['AMT_CREDIT', 'AMT_ANNUITY']]\n",
        "norm = MinMaxScaler().fit(X_train)\n",
        "X_train_norm = norm.transform(X_train)\n",
        "X_test = norm.transform(X_test)\n",
        "print(X_train_norm)"
      ]
    },
    {
      "cell_type": "code",
      "source": [
        "X_train = app_train[['AMT_INCOME_TOTAL', 'AMT_CREDIT', 'AMT_ANNUITY', 'AMT_GOODS_PRICE']].fillna(0)\n",
        "y_train = app_train['SK_ID_CURR']\n",
        "X_test = app_test[['AMT_INCOME_TOTAL', 'AMT_CREDIT', 'AMT_ANNUITY', 'AMT_GOODS_PRICE']].fillna(0)\n",
        "y_test = app_test['SK_ID_CURR']\n",
        "\n",
        "from imblearn.under_sampling import RandomUnderSampler\n",
        "un_sample = RandomUnderSampler(random_state=0)\n",
        "X_under, y_under = un_sample.fit_resample(X_train, y_train)"
      ],
      "metadata": {
        "id": "fOeOeWJr7sat"
      },
      "execution_count": 2,
      "outputs": []
    },
    {
      "cell_type": "code",
      "execution_count": null,
      "metadata": {
        "id": "S2gIyL_M33Y5"
      },
      "outputs": [],
      "source": [
        "X_train = app_train[['AMT_INCOME_TOTAL', 'AMT_CREDIT', 'AMT_ANNUITY', 'AMT_GOODS_PRICE']].fillna(0)\n",
        "y_train = app_train['SK_ID_CURR']\n",
        "X_test = app_test[['AMT_INCOME_TOTAL', 'AMT_CREDIT', 'AMT_ANNUITY', 'AMT_GOODS_PRICE']].fillna(0)\n",
        "y_test = app_test['SK_ID_CURR']\n",
        "\n",
        "from sklearn.linear_model import LogisticRegression\n",
        "logreg = LogisticRegression(random_state=16, solver='lbfgs', class_weight='balanced', max_iter=10000, dual=False)\n",
        "logreg.fit(X_train, y_train)\n",
        "predictions = logreg.predict(X_test)\n",
        "print(predictions.summary2())"
      ]
    },
    {
      "cell_type": "code",
      "source": [
        "X_train = app_train[['AMT_INCOME_TOTAL', 'AMT_CREDIT', 'AMT_ANNUITY', 'AMT_GOODS_PRICE']].fillna(0)\n",
        "y_train = app_train['SK_ID_CURR']\n",
        "X_test = app_test[['AMT_INCOME_TOTAL', 'AMT_CREDIT', 'AMT_ANNUITY', 'AMT_GOODS_PRICE']].fillna(0)\n",
        "y_test = app_test['SK_ID_CURR']\n",
        "\n",
        "from sklearn.ensemble import RandomForestRegressor\n",
        "from sklearn.metrics import mean_absolute_error\n",
        "\n",
        "forest_model = RandomForestRegressor(random_state=1)\n",
        "forest_model.fit(X_train, y_train)\n",
        "preds = forest_model.predict(X_train)\n",
        "preds"
      ],
      "metadata": {
        "colab": {
          "base_uri": "https://localhost:8080/"
        },
        "id": "arE_V67n0UX2",
        "outputId": "a2dcbddc-2a9e-4004-a37b-fb837490588e"
      },
      "execution_count": 4,
      "outputs": [
        {
          "output_type": "execute_result",
          "data": {
            "text/plain": [
              "array([183795.32      , 255738.95656349, 274409.07575379, ...,\n",
              "       402807.23083333, 383074.44      , 269295.89616089])"
            ]
          },
          "metadata": {},
          "execution_count": 4
        }
      ]
    },
    {
      "cell_type": "code",
      "execution_count": 3,
      "metadata": {
        "colab": {
          "base_uri": "https://localhost:8080/"
        },
        "id": "7qTaYL8HDLMP",
        "outputId": "bb0e4ba0-73d2-4e7e-cce8-12b9c743c385"
      },
      "outputs": [
        {
          "output_type": "stream",
          "name": "stdout",
          "text": [
            "60792.02883012618\n"
          ]
        }
      ],
      "source": [
        "X_train = app_train[['AMT_INCOME_TOTAL', 'AMT_CREDIT', 'AMT_ANNUITY', 'AMT_GOODS_PRICE']].fillna(0)\n",
        "y_train = app_train['SK_ID_CURR']\n",
        "X_test = app_test[['AMT_INCOME_TOTAL', 'AMT_CREDIT', 'AMT_ANNUITY', 'AMT_GOODS_PRICE']].fillna(0)\n",
        "y_test = app_test['SK_ID_CURR']\n",
        "\n",
        "from sklearn.ensemble import RandomForestRegressor\n",
        "from sklearn.metrics import mean_absolute_error\n",
        "\n",
        "forest_model = RandomForestRegressor(random_state=1)\n",
        "forest_model.fit(X_train, y_train)\n",
        "preds = forest_model.predict(X_train)\n",
        "print(mean_absolute_error(y_train, preds))"
      ]
    }
  ],
  "metadata": {
    "colab": {
      "provenance": [],
      "mount_file_id": "1YBBJwjoAM-RPvBxgHogMD0hH2O8NylOq",
      "authorship_tag": "ABX9TyNyQxgTCJmY3pE4gekwvCwr",
      "include_colab_link": true
    },
    "gpuClass": "standard",
    "kernelspec": {
      "display_name": "Python 3",
      "name": "python3"
    },
    "language_info": {
      "name": "python"
    }
  },
  "nbformat": 4,
  "nbformat_minor": 0
}
