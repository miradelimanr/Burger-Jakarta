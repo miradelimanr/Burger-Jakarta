{
 "cells": [
  {
   "cell_type": "markdown",
   "id": "fc9a808d",
   "metadata": {
    "papermill": {
     "duration": 0.041119,
     "end_time": "2022-04-18T05:16:59.057224",
     "exception": false,
     "start_time": "2022-04-18T05:16:59.016105",
     "status": "completed"
    },
    "tags": []
   },
   "source": [
    "# **Central Jakarta**\n",
    "\n",
    "Central Jakarta is the center of life for entire Jakarta. One of the most popular district is SCBD (Sudirman Center Business District) where all the business is started. If you heard about Pacific Place then the place is there. \n",
    "\n",
    "Besides, Menteng, Thamrin (Grand Indonesia), and Cempaka Putih also famous for its high end lifestyle. So some burgers are served in proper restaurant. Even though there are also bunch of cheap burger which lower than IDR 50000."
   ]
  },
  {
   "cell_type": "markdown",
   "id": "bcb5bca1",
   "metadata": {
    "papermill": {
     "duration": 0.039942,
     "end_time": "2022-04-18T05:16:59.137439",
     "exception": false,
     "start_time": "2022-04-18T05:16:59.097497",
     "status": "completed"
    },
    "tags": []
   },
   "source": [
    "# Content\n",
    "\n",
    "* [District](#District)\n",
    "* [Price-Range](#Price-Range)\n",
    "* [Facility](#Facility)"
   ]
  },
  {
   "cell_type": "markdown",
   "id": "6c9e80b1",
   "metadata": {
    "papermill": {
     "duration": 0.040085,
     "end_time": "2022-04-18T05:16:59.217835",
     "exception": false,
     "start_time": "2022-04-18T05:16:59.177750",
     "status": "completed"
    },
    "tags": []
   },
   "source": [
    "# District\n",
    "\n",
    "Before we begin, we need to import all of those."
   ]
  },
  {
   "cell_type": "code",
   "execution_count": 1,
   "id": "668c0a58",
   "metadata": {
    "execution": {
     "iopub.execute_input": "2022-04-18T05:16:59.300573Z",
     "iopub.status.busy": "2022-04-18T05:16:59.299998Z",
     "iopub.status.idle": "2022-04-18T05:16:59.327503Z",
     "shell.execute_reply": "2022-04-18T05:16:59.326919Z"
    },
    "papermill": {
     "duration": 0.071508,
     "end_time": "2022-04-18T05:16:59.329657",
     "exception": false,
     "start_time": "2022-04-18T05:16:59.258149",
     "status": "completed"
    },
    "tags": []
   },
   "outputs": [],
   "source": [
    "import pandas as pd\n",
    "from pandasql import sqldf\n",
    "burger = pd.read_csv('../input/burger-central/central_jakarta.csv', sep = \";\")\n",
    "\n",
    "from IPython.core.interactiveshell import InteractiveShell\n",
    "InteractiveShell.ast_node_interactivity = \"all\""
   ]
  },
  {
   "cell_type": "markdown",
   "id": "05baa774",
   "metadata": {
    "papermill": {
     "duration": 0.049022,
     "end_time": "2022-04-18T05:16:59.422751",
     "exception": false,
     "start_time": "2022-04-18T05:16:59.373729",
     "status": "completed"
    },
    "tags": []
   },
   "source": [
    "Then we can input all the district here. "
   ]
  },
  {
   "cell_type": "code",
   "execution_count": 2,
   "id": "af34fc34",
   "metadata": {
    "execution": {
     "iopub.execute_input": "2022-04-18T05:16:59.503957Z",
     "iopub.status.busy": "2022-04-18T05:16:59.503038Z",
     "iopub.status.idle": "2022-04-18T05:16:59.637445Z",
     "shell.execute_reply": "2022-04-18T05:16:59.636806Z"
    },
    "papermill": {
     "duration": 0.177114,
     "end_time": "2022-04-18T05:16:59.639878",
     "exception": false,
     "start_time": "2022-04-18T05:16:59.462764",
     "status": "completed"
    },
    "tags": []
   },
   "outputs": [
    {
     "data": {
      "text/html": [
       "<div>\n",
       "<style scoped>\n",
       "    .dataframe tbody tr th:only-of-type {\n",
       "        vertical-align: middle;\n",
       "    }\n",
       "\n",
       "    .dataframe tbody tr th {\n",
       "        vertical-align: top;\n",
       "    }\n",
       "\n",
       "    .dataframe thead th {\n",
       "        text-align: right;\n",
       "    }\n",
       "</style>\n",
       "<table border=\"1\" class=\"dataframe\">\n",
       "  <thead>\n",
       "    <tr style=\"text-align: right;\">\n",
       "      <th></th>\n",
       "      <th>0</th>\n",
       "      <th>1</th>\n",
       "      <th>2</th>\n",
       "      <th>3</th>\n",
       "      <th>4</th>\n",
       "      <th>5</th>\n",
       "      <th>6</th>\n",
       "      <th>7</th>\n",
       "      <th>8</th>\n",
       "      <th>9</th>\n",
       "      <th>10</th>\n",
       "    </tr>\n",
       "  </thead>\n",
       "  <tbody>\n",
       "    <tr>\n",
       "      <th>District</th>\n",
       "      <td>Thamrin</td>\n",
       "      <td>Tanah Abang</td>\n",
       "      <td>Bendungan Hilir</td>\n",
       "      <td>Sudirman</td>\n",
       "      <td>Hayam Wuruk</td>\n",
       "      <td>Senen</td>\n",
       "      <td>Cempaka Putih</td>\n",
       "      <td>Menteng</td>\n",
       "      <td>SCBD</td>\n",
       "      <td>Karet</td>\n",
       "      <td>Pecenongan</td>\n",
       "    </tr>\n",
       "  </tbody>\n",
       "</table>\n",
       "</div>"
      ],
      "text/plain": [
       "               0            1                2         3            4      5   \\\n",
       "District  Thamrin  Tanah Abang  Bendungan Hilir  Sudirman  Hayam Wuruk  Senen   \n",
       "\n",
       "                     6        7     8      9           10  \n",
       "District  Cempaka Putih  Menteng  SCBD  Karet  Pecenongan  "
      ]
     },
     "execution_count": 2,
     "metadata": {},
     "output_type": "execute_result"
    }
   ],
   "source": [
    "partlor_name = sqldf(\"SELECT DISTINCT district FROM burger\").transpose()\n",
    "partlor_name"
   ]
  },
  {
   "cell_type": "markdown",
   "id": "0eb2d5dd",
   "metadata": {
    "papermill": {
     "duration": 0.039857,
     "end_time": "2022-04-18T05:16:59.720240",
     "exception": false,
     "start_time": "2022-04-18T05:16:59.680383",
     "status": "completed"
    },
    "tags": []
   },
   "source": [
    "As we can see, there are 10 districts in Central Jakarta. Bendungan Hilir, Karet, and Tanah Abang is actually one region with Thamrin as the area are not so far from each other. Meanwhile Menteng is closer to Pecenongan, the furthest is Hayam Wuruk.\n",
    "\n",
    "Then here is all the details of burger restaurant/partlors."
   ]
  },
  {
   "cell_type": "code",
   "execution_count": 3,
   "id": "bd6027c5",
   "metadata": {
    "execution": {
     "iopub.execute_input": "2022-04-18T05:16:59.802776Z",
     "iopub.status.busy": "2022-04-18T05:16:59.802017Z",
     "iopub.status.idle": "2022-04-18T05:16:59.907178Z",
     "shell.execute_reply": "2022-04-18T05:16:59.906550Z"
    },
    "papermill": {
     "duration": 0.148466,
     "end_time": "2022-04-18T05:16:59.909027",
     "exception": false,
     "start_time": "2022-04-18T05:16:59.760561",
     "status": "completed"
    },
    "tags": []
   },
   "outputs": [
    {
     "data": {
      "text/html": [
       "<style type=\"text/css\">\n",
       "</style>\n",
       "<table id=\"T_33346_\">\n",
       "  <thead>\n",
       "    <tr>\n",
       "      <th class=\"col_heading level0 col0\" >no</th>\n",
       "      <th class=\"col_heading level0 col1\" >partlor_name</th>\n",
       "      <th class=\"col_heading level0 col2\" >District</th>\n",
       "      <th class=\"col_heading level0 col3\" >unique_menu</th>\n",
       "      <th class=\"col_heading level0 col4\" >price</th>\n",
       "    </tr>\n",
       "  </thead>\n",
       "  <tbody>\n",
       "    <tr>\n",
       "      <td id=\"T_33346_row0_col0\" class=\"data row0 col0\" >1</td>\n",
       "      <td id=\"T_33346_row0_col1\" class=\"data row0 col1\" >Burger King Grand Indonesia</td>\n",
       "      <td id=\"T_33346_row0_col2\" class=\"data row0 col2\" >Thamrin</td>\n",
       "      <td id=\"T_33346_row0_col3\" class=\"data row0 col3\" >Whooper Jr.</td>\n",
       "      <td id=\"T_33346_row0_col4\" class=\"data row0 col4\" >37273</td>\n",
       "    </tr>\n",
       "    <tr>\n",
       "      <td id=\"T_33346_row1_col0\" class=\"data row1 col0\" >2</td>\n",
       "      <td id=\"T_33346_row1_col1\" class=\"data row1 col1\" >Burger King Thamrin City</td>\n",
       "      <td id=\"T_33346_row1_col2\" class=\"data row1 col2\" >Tanah Abang</td>\n",
       "      <td id=\"T_33346_row1_col3\" class=\"data row1 col3\" >Whooper Jr.</td>\n",
       "      <td id=\"T_33346_row1_col4\" class=\"data row1 col4\" >37273</td>\n",
       "    </tr>\n",
       "    <tr>\n",
       "      <td id=\"T_33346_row2_col0\" class=\"data row2 col0\" >3</td>\n",
       "      <td id=\"T_33346_row2_col1\" class=\"data row2 col1\" >Burger King Bendungan Hilir</td>\n",
       "      <td id=\"T_33346_row2_col2\" class=\"data row2 col2\" >Bendungan Hilir</td>\n",
       "      <td id=\"T_33346_row2_col3\" class=\"data row2 col3\" >Whooper Jr.</td>\n",
       "      <td id=\"T_33346_row2_col4\" class=\"data row2 col4\" >37273</td>\n",
       "    </tr>\n",
       "    <tr>\n",
       "      <td id=\"T_33346_row3_col0\" class=\"data row3 col0\" >4</td>\n",
       "      <td id=\"T_33346_row3_col1\" class=\"data row3 col1\" >Burger King Citywalk Sudirman</td>\n",
       "      <td id=\"T_33346_row3_col2\" class=\"data row3 col2\" >Sudirman</td>\n",
       "      <td id=\"T_33346_row3_col3\" class=\"data row3 col3\" >Cheese Burger</td>\n",
       "      <td id=\"T_33346_row3_col4\" class=\"data row3 col4\" >25000</td>\n",
       "    </tr>\n",
       "    <tr>\n",
       "      <td id=\"T_33346_row4_col0\" class=\"data row4 col0\" >5</td>\n",
       "      <td id=\"T_33346_row4_col1\" class=\"data row4 col1\" >Burger King Hayam Wuruk</td>\n",
       "      <td id=\"T_33346_row4_col2\" class=\"data row4 col2\" >Hayam Wuruk</td>\n",
       "      <td id=\"T_33346_row4_col3\" class=\"data row4 col3\" >Chicken Steakhouse BBQ</td>\n",
       "      <td id=\"T_33346_row4_col4\" class=\"data row4 col4\" >59901</td>\n",
       "    </tr>\n",
       "    <tr>\n",
       "      <td id=\"T_33346_row5_col0\" class=\"data row5 col0\" >6</td>\n",
       "      <td id=\"T_33346_row5_col1\" class=\"data row5 col1\" >Burger King Atrium Plaza</td>\n",
       "      <td id=\"T_33346_row5_col2\" class=\"data row5 col2\" >Senen</td>\n",
       "      <td id=\"T_33346_row5_col3\" class=\"data row5 col3\" >Mushroom Swiss XL</td>\n",
       "      <td id=\"T_33346_row5_col4\" class=\"data row5 col4\" >59901</td>\n",
       "    </tr>\n",
       "    <tr>\n",
       "      <td id=\"T_33346_row6_col0\" class=\"data row6 col0\" >7</td>\n",
       "      <td id=\"T_33346_row6_col1\" class=\"data row6 col1\" >Burger King Cempaka Putih</td>\n",
       "      <td id=\"T_33346_row6_col2\" class=\"data row6 col2\" >Cempaka Putih</td>\n",
       "      <td id=\"T_33346_row6_col3\" class=\"data row6 col3\" >Whooper Jr.</td>\n",
       "      <td id=\"T_33346_row6_col4\" class=\"data row6 col4\" >37273</td>\n",
       "    </tr>\n",
       "    <tr>\n",
       "      <td id=\"T_33346_row7_col0\" class=\"data row7 col0\" >9</td>\n",
       "      <td id=\"T_33346_row7_col1\" class=\"data row7 col1\" >Flip Burger</td>\n",
       "      <td id=\"T_33346_row7_col2\" class=\"data row7 col2\" >Sudirman</td>\n",
       "      <td id=\"T_33346_row7_col3\" class=\"data row7 col3\" >Cheese Burger</td>\n",
       "      <td id=\"T_33346_row7_col4\" class=\"data row7 col4\" >40909</td>\n",
       "    </tr>\n",
       "    <tr>\n",
       "      <td id=\"T_33346_row8_col0\" class=\"data row8 col0\" >10</td>\n",
       "      <td id=\"T_33346_row8_col1\" class=\"data row8 col1\" >Lawless Burger</td>\n",
       "      <td id=\"T_33346_row8_col2\" class=\"data row8 col2\" >Menteng</td>\n",
       "      <td id=\"T_33346_row8_col3\" class=\"data row8 col3\" >The Lemmy</td>\n",
       "      <td id=\"T_33346_row8_col4\" class=\"data row8 col4\" >105000</td>\n",
       "    </tr>\n",
       "    <tr>\n",
       "      <td id=\"T_33346_row9_col0\" class=\"data row9 col0\" >11</td>\n",
       "      <td id=\"T_33346_row9_col1\" class=\"data row9 col1\" >Lemoe Burger</td>\n",
       "      <td id=\"T_33346_row9_col2\" class=\"data row9 col2\" >Cempaka Putih</td>\n",
       "      <td id=\"T_33346_row9_col3\" class=\"data row9 col3\" >Chicken Cabe Ijo</td>\n",
       "      <td id=\"T_33346_row9_col4\" class=\"data row9 col4\" >14000</td>\n",
       "    </tr>\n",
       "    <tr>\n",
       "      <td id=\"T_33346_row10_col0\" class=\"data row10 col0\" >12</td>\n",
       "      <td id=\"T_33346_row10_col1\" class=\"data row10 col1\" >Le Burger</td>\n",
       "      <td id=\"T_33346_row10_col2\" class=\"data row10 col2\" >Sudirman</td>\n",
       "      <td id=\"T_33346_row10_col3\" class=\"data row10 col3\" >Truffle Burger</td>\n",
       "      <td id=\"T_33346_row10_col4\" class=\"data row10 col4\" >130000</td>\n",
       "    </tr>\n",
       "    <tr>\n",
       "      <td id=\"T_33346_row11_col0\" class=\"data row11 col0\" >13</td>\n",
       "      <td id=\"T_33346_row11_col1\" class=\"data row11 col1\" >Burger Bener</td>\n",
       "      <td id=\"T_33346_row11_col2\" class=\"data row11 col2\" >Senen</td>\n",
       "      <td id=\"T_33346_row11_col3\" class=\"data row11 col3\" >Beef Burger Spicy BBQ Sauce</td>\n",
       "      <td id=\"T_33346_row11_col4\" class=\"data row11 col4\" >24000</td>\n",
       "    </tr>\n",
       "    <tr>\n",
       "      <td id=\"T_33346_row12_col0\" class=\"data row12 col0\" >14</td>\n",
       "      <td id=\"T_33346_row12_col1\" class=\"data row12 col1\" >Dope Burger</td>\n",
       "      <td id=\"T_33346_row12_col2\" class=\"data row12 col2\" >Menteng</td>\n",
       "      <td id=\"T_33346_row12_col3\" class=\"data row12 col3\" >All American</td>\n",
       "      <td id=\"T_33346_row12_col4\" class=\"data row12 col4\" >75000</td>\n",
       "    </tr>\n",
       "    <tr>\n",
       "      <td id=\"T_33346_row13_col0\" class=\"data row13 col0\" >15</td>\n",
       "      <td id=\"T_33346_row13_col1\" class=\"data row13 col1\" >The Goods Diner</td>\n",
       "      <td id=\"T_33346_row13_col2\" class=\"data row13 col2\" >SCBD</td>\n",
       "      <td id=\"T_33346_row13_col3\" class=\"data row13 col3\" >Coffee Rubed Burger</td>\n",
       "      <td id=\"T_33346_row13_col4\" class=\"data row13 col4\" >120000</td>\n",
       "    </tr>\n",
       "    <tr>\n",
       "      <td id=\"T_33346_row14_col0\" class=\"data row14 col0\" >16</td>\n",
       "      <td id=\"T_33346_row14_col1\" class=\"data row14 col1\" >Burgreens Menteng</td>\n",
       "      <td id=\"T_33346_row14_col2\" class=\"data row14 col2\" >Menteng</td>\n",
       "      <td id=\"T_33346_row14_col3\" class=\"data row14 col3\" >Mini Trio Vegan Burger</td>\n",
       "      <td id=\"T_33346_row14_col4\" class=\"data row14 col4\" >75000</td>\n",
       "    </tr>\n",
       "    <tr>\n",
       "      <td id=\"T_33346_row15_col0\" class=\"data row15 col0\" >17</td>\n",
       "      <td id=\"T_33346_row15_col1\" class=\"data row15 col1\" >Burgreens Pacific Place</td>\n",
       "      <td id=\"T_33346_row15_col2\" class=\"data row15 col2\" >SCBD</td>\n",
       "      <td id=\"T_33346_row15_col3\" class=\"data row15 col3\" >Mini Trio Vegan Burger</td>\n",
       "      <td id=\"T_33346_row15_col4\" class=\"data row15 col4\" >75000</td>\n",
       "    </tr>\n",
       "    <tr>\n",
       "      <td id=\"T_33346_row16_col0\" class=\"data row16 col0\" >18</td>\n",
       "      <td id=\"T_33346_row16_col1\" class=\"data row16 col1\" >JJ Royal Brasserie</td>\n",
       "      <td id=\"T_33346_row16_col2\" class=\"data row16 col2\" >Karet</td>\n",
       "      <td id=\"T_33346_row16_col3\" class=\"data row16 col3\" >Western Bacon Cheese Burger</td>\n",
       "      <td id=\"T_33346_row16_col4\" class=\"data row16 col4\" >110000</td>\n",
       "    </tr>\n",
       "    <tr>\n",
       "      <td id=\"T_33346_row17_col0\" class=\"data row17 col0\" >19</td>\n",
       "      <td id=\"T_33346_row17_col1\" class=\"data row17 col1\" >Hard Rock Cafe</td>\n",
       "      <td id=\"T_33346_row17_col2\" class=\"data row17 col2\" >SCBD</td>\n",
       "      <td id=\"T_33346_row17_col3\" class=\"data row17 col3\" >Original Legendary Burger</td>\n",
       "      <td id=\"T_33346_row17_col4\" class=\"data row17 col4\" >229000</td>\n",
       "    </tr>\n",
       "    <tr>\n",
       "      <td id=\"T_33346_row18_col0\" class=\"data row18 col0\" >20</td>\n",
       "      <td id=\"T_33346_row18_col1\" class=\"data row18 col1\" >Ask for Patty</td>\n",
       "      <td id=\"T_33346_row18_col2\" class=\"data row18 col2\" >Menteng</td>\n",
       "      <td id=\"T_33346_row18_col3\" class=\"data row18 col3\" >Classic Patty</td>\n",
       "      <td id=\"T_33346_row18_col4\" class=\"data row18 col4\" >60500</td>\n",
       "    </tr>\n",
       "    <tr>\n",
       "      <td id=\"T_33346_row19_col0\" class=\"data row19 col0\" >21</td>\n",
       "      <td id=\"T_33346_row19_col1\" class=\"data row19 col1\" >Johny Rockets</td>\n",
       "      <td id=\"T_33346_row19_col2\" class=\"data row19 col2\" >Karet</td>\n",
       "      <td id=\"T_33346_row19_col3\" class=\"data row19 col3\" >Bacon Cheddar</td>\n",
       "      <td id=\"T_33346_row19_col4\" class=\"data row19 col4\" >72000</td>\n",
       "    </tr>\n",
       "    <tr>\n",
       "      <td id=\"T_33346_row20_col0\" class=\"data row20 col0\" >22</td>\n",
       "      <td id=\"T_33346_row20_col1\" class=\"data row20 col1\" >BarBurger</td>\n",
       "      <td id=\"T_33346_row20_col2\" class=\"data row20 col2\" >Cempaka Putih</td>\n",
       "      <td id=\"T_33346_row20_col3\" class=\"data row20 col3\" >Barchiz Burger</td>\n",
       "      <td id=\"T_33346_row20_col4\" class=\"data row20 col4\" >23000</td>\n",
       "    </tr>\n",
       "    <tr>\n",
       "      <td id=\"T_33346_row21_col0\" class=\"data row21 col0\" >23</td>\n",
       "      <td id=\"T_33346_row21_col1\" class=\"data row21 col1\" >Belly Bandit To Go</td>\n",
       "      <td id=\"T_33346_row21_col2\" class=\"data row21 col2\" >Menteng</td>\n",
       "      <td id=\"T_33346_row21_col3\" class=\"data row21 col3\" >Bandit Tower</td>\n",
       "      <td id=\"T_33346_row21_col4\" class=\"data row21 col4\" >68000</td>\n",
       "    </tr>\n",
       "    <tr>\n",
       "      <td id=\"T_33346_row22_col0\" class=\"data row22 col0\" >24</td>\n",
       "      <td id=\"T_33346_row22_col1\" class=\"data row22 col1\" >Klenger Burger</td>\n",
       "      <td id=\"T_33346_row22_col2\" class=\"data row22 col2\" >Senen</td>\n",
       "      <td id=\"T_33346_row22_col3\" class=\"data row22 col3\" >Super Duper Klenger Burger</td>\n",
       "      <td id=\"T_33346_row22_col4\" class=\"data row22 col4\" >45000</td>\n",
       "    </tr>\n",
       "    <tr>\n",
       "      <td id=\"T_33346_row23_col0\" class=\"data row23 col0\" >25</td>\n",
       "      <td id=\"T_33346_row23_col1\" class=\"data row23 col1\" >Gode Burger</td>\n",
       "      <td id=\"T_33346_row23_col2\" class=\"data row23 col2\" >Pecenongan</td>\n",
       "      <td id=\"T_33346_row23_col3\" class=\"data row23 col3\" >Pretty Purple Chicken Matah</td>\n",
       "      <td id=\"T_33346_row23_col4\" class=\"data row23 col4\" >30000</td>\n",
       "    </tr>\n",
       "    <tr>\n",
       "      <td id=\"T_33346_row24_col0\" class=\"data row24 col0\" >26</td>\n",
       "      <td id=\"T_33346_row24_col1\" class=\"data row24 col1\" >Lucy Beer & Burger Bar</td>\n",
       "      <td id=\"T_33346_row24_col2\" class=\"data row24 col2\" >Sudirman</td>\n",
       "      <td id=\"T_33346_row24_col3\" class=\"data row24 col3\" >Bacon Me Crazy</td>\n",
       "      <td id=\"T_33346_row24_col4\" class=\"data row24 col4\" >68000</td>\n",
       "    </tr>\n",
       "  </tbody>\n",
       "</table>\n"
      ],
      "text/plain": [
       "<pandas.io.formats.style.Styler at 0x7f0555f60d90>"
      ]
     },
     "execution_count": 3,
     "metadata": {},
     "output_type": "execute_result"
    }
   ],
   "source": [
    "burger = sqldf(\"SELECT no, partlor_name, District, unique_menu, price FROM burger\")\n",
    "burger.style.hide_index()"
   ]
  },
  {
   "cell_type": "markdown",
   "id": "ec81ea51",
   "metadata": {
    "papermill": {
     "duration": 0.039189,
     "end_time": "2022-04-18T05:16:59.987566",
     "exception": false,
     "start_time": "2022-04-18T05:16:59.948377",
     "status": "completed"
    },
    "tags": []
   },
   "source": [
    "# Price-Range\n",
    "\n",
    "Starting with price, we sort the list from the most expensive and also the cheapest, also with the price range from IDR 50000 to 100000. Here is the order from the most expensive."
   ]
  },
  {
   "cell_type": "code",
   "execution_count": 4,
   "id": "f26652a3",
   "metadata": {
    "execution": {
     "iopub.execute_input": "2022-04-18T05:17:00.067608Z",
     "iopub.status.busy": "2022-04-18T05:17:00.066677Z",
     "iopub.status.idle": "2022-04-18T05:17:00.099334Z",
     "shell.execute_reply": "2022-04-18T05:17:00.098585Z"
    },
    "papermill": {
     "duration": 0.074642,
     "end_time": "2022-04-18T05:17:00.101181",
     "exception": false,
     "start_time": "2022-04-18T05:17:00.026539",
     "status": "completed"
    },
    "tags": []
   },
   "outputs": [
    {
     "data": {
      "text/html": [
       "<style type=\"text/css\">\n",
       "</style>\n",
       "<table id=\"T_1f7c0_\">\n",
       "  <thead>\n",
       "    <tr>\n",
       "      <th class=\"col_heading level0 col0\" >partlor_name</th>\n",
       "      <th class=\"col_heading level0 col1\" >District</th>\n",
       "      <th class=\"col_heading level0 col2\" >unique_menu</th>\n",
       "      <th class=\"col_heading level0 col3\" >price</th>\n",
       "    </tr>\n",
       "  </thead>\n",
       "  <tbody>\n",
       "    <tr>\n",
       "      <td id=\"T_1f7c0_row0_col0\" class=\"data row0 col0\" >Hard Rock Cafe</td>\n",
       "      <td id=\"T_1f7c0_row0_col1\" class=\"data row0 col1\" >SCBD</td>\n",
       "      <td id=\"T_1f7c0_row0_col2\" class=\"data row0 col2\" >Original Legendary Burger</td>\n",
       "      <td id=\"T_1f7c0_row0_col3\" class=\"data row0 col3\" >229000</td>\n",
       "    </tr>\n",
       "    <tr>\n",
       "      <td id=\"T_1f7c0_row1_col0\" class=\"data row1 col0\" >Le Burger</td>\n",
       "      <td id=\"T_1f7c0_row1_col1\" class=\"data row1 col1\" >Sudirman</td>\n",
       "      <td id=\"T_1f7c0_row1_col2\" class=\"data row1 col2\" >Truffle Burger</td>\n",
       "      <td id=\"T_1f7c0_row1_col3\" class=\"data row1 col3\" >130000</td>\n",
       "    </tr>\n",
       "    <tr>\n",
       "      <td id=\"T_1f7c0_row2_col0\" class=\"data row2 col0\" >The Goods Diner</td>\n",
       "      <td id=\"T_1f7c0_row2_col1\" class=\"data row2 col1\" >SCBD</td>\n",
       "      <td id=\"T_1f7c0_row2_col2\" class=\"data row2 col2\" >Coffee Rubed Burger</td>\n",
       "      <td id=\"T_1f7c0_row2_col3\" class=\"data row2 col3\" >120000</td>\n",
       "    </tr>\n",
       "    <tr>\n",
       "      <td id=\"T_1f7c0_row3_col0\" class=\"data row3 col0\" >JJ Royal Brasserie</td>\n",
       "      <td id=\"T_1f7c0_row3_col1\" class=\"data row3 col1\" >Karet</td>\n",
       "      <td id=\"T_1f7c0_row3_col2\" class=\"data row3 col2\" >Western Bacon Cheese Burger</td>\n",
       "      <td id=\"T_1f7c0_row3_col3\" class=\"data row3 col3\" >110000</td>\n",
       "    </tr>\n",
       "    <tr>\n",
       "      <td id=\"T_1f7c0_row4_col0\" class=\"data row4 col0\" >Lawless Burger</td>\n",
       "      <td id=\"T_1f7c0_row4_col1\" class=\"data row4 col1\" >Menteng</td>\n",
       "      <td id=\"T_1f7c0_row4_col2\" class=\"data row4 col2\" >The Lemmy</td>\n",
       "      <td id=\"T_1f7c0_row4_col3\" class=\"data row4 col3\" >105000</td>\n",
       "    </tr>\n",
       "  </tbody>\n",
       "</table>\n"
      ],
      "text/plain": [
       "<pandas.io.formats.style.Styler at 0x7f05554ae7d0>"
      ]
     },
     "execution_count": 4,
     "metadata": {},
     "output_type": "execute_result"
    }
   ],
   "source": [
    "#most expensive\n",
    "burger_price = sqldf(\"SELECT partlor_name, district, unique_menu, price FROM burger ORDER BY price DESC\")\n",
    "burger_price.head().style.hide_index()"
   ]
  },
  {
   "cell_type": "code",
   "execution_count": 5,
   "id": "7ab331d7",
   "metadata": {
    "execution": {
     "iopub.execute_input": "2022-04-18T05:17:00.188466Z",
     "iopub.status.busy": "2022-04-18T05:17:00.188019Z",
     "iopub.status.idle": "2022-04-18T05:17:00.345232Z",
     "shell.execute_reply": "2022-04-18T05:17:00.344417Z"
    },
    "papermill": {
     "duration": 0.203093,
     "end_time": "2022-04-18T05:17:00.347086",
     "exception": false,
     "start_time": "2022-04-18T05:17:00.143993",
     "status": "completed"
    },
    "tags": []
   },
   "outputs": [
    {
     "data": {
      "text/html": [
       "<style type=\"text/css\">\n",
       "</style>\n",
       "<table id=\"T_8c73c_\">\n",
       "  <thead>\n",
       "    <tr>\n",
       "      <th class=\"col_heading level0 col0\" >partlor_name</th>\n",
       "      <th class=\"col_heading level0 col1\" >District</th>\n",
       "      <th class=\"col_heading level0 col2\" >unique_menu</th>\n",
       "      <th class=\"col_heading level0 col3\" >price</th>\n",
       "    </tr>\n",
       "  </thead>\n",
       "  <tbody>\n",
       "    <tr>\n",
       "      <td id=\"T_8c73c_row0_col0\" class=\"data row0 col0\" >Lemoe Burger</td>\n",
       "      <td id=\"T_8c73c_row0_col1\" class=\"data row0 col1\" >Cempaka Putih</td>\n",
       "      <td id=\"T_8c73c_row0_col2\" class=\"data row0 col2\" >Chicken Cabe Ijo</td>\n",
       "      <td id=\"T_8c73c_row0_col3\" class=\"data row0 col3\" >14000</td>\n",
       "    </tr>\n",
       "    <tr>\n",
       "      <td id=\"T_8c73c_row1_col0\" class=\"data row1 col0\" >BarBurger</td>\n",
       "      <td id=\"T_8c73c_row1_col1\" class=\"data row1 col1\" >Cempaka Putih</td>\n",
       "      <td id=\"T_8c73c_row1_col2\" class=\"data row1 col2\" >Barchiz Burger</td>\n",
       "      <td id=\"T_8c73c_row1_col3\" class=\"data row1 col3\" >23000</td>\n",
       "    </tr>\n",
       "    <tr>\n",
       "      <td id=\"T_8c73c_row2_col0\" class=\"data row2 col0\" >Burger Bener</td>\n",
       "      <td id=\"T_8c73c_row2_col1\" class=\"data row2 col1\" >Senen</td>\n",
       "      <td id=\"T_8c73c_row2_col2\" class=\"data row2 col2\" >Beef Burger Spicy BBQ Sauce</td>\n",
       "      <td id=\"T_8c73c_row2_col3\" class=\"data row2 col3\" >24000</td>\n",
       "    </tr>\n",
       "    <tr>\n",
       "      <td id=\"T_8c73c_row3_col0\" class=\"data row3 col0\" >Burger King Citywalk Sudirman</td>\n",
       "      <td id=\"T_8c73c_row3_col1\" class=\"data row3 col1\" >Sudirman</td>\n",
       "      <td id=\"T_8c73c_row3_col2\" class=\"data row3 col2\" >Cheese Burger</td>\n",
       "      <td id=\"T_8c73c_row3_col3\" class=\"data row3 col3\" >25000</td>\n",
       "    </tr>\n",
       "    <tr>\n",
       "      <td id=\"T_8c73c_row4_col0\" class=\"data row4 col0\" >Gode Burger</td>\n",
       "      <td id=\"T_8c73c_row4_col1\" class=\"data row4 col1\" >Pecenongan</td>\n",
       "      <td id=\"T_8c73c_row4_col2\" class=\"data row4 col2\" >Pretty Purple Chicken Matah</td>\n",
       "      <td id=\"T_8c73c_row4_col3\" class=\"data row4 col3\" >30000</td>\n",
       "    </tr>\n",
       "  </tbody>\n",
       "</table>\n"
      ],
      "text/plain": [
       "<pandas.io.formats.style.Styler at 0x7f0555555890>"
      ]
     },
     "execution_count": 5,
     "metadata": {},
     "output_type": "execute_result"
    }
   ],
   "source": [
    "#cheapest\n",
    "burger_price = sqldf(\"SELECT partlor_name, district, unique_menu, price FROM burger ORDER BY price\")\n",
    "burger_price.head().style.hide_index()"
   ]
  },
  {
   "cell_type": "markdown",
   "id": "ec133eff",
   "metadata": {
    "papermill": {
     "duration": 0.042076,
     "end_time": "2022-04-18T05:17:00.431503",
     "exception": false,
     "start_time": "2022-04-18T05:17:00.389427",
     "status": "completed"
    },
    "tags": []
   },
   "source": [
    "Then here is the price range I mentioned earlier."
   ]
  },
  {
   "cell_type": "code",
   "execution_count": 6,
   "id": "09703776",
   "metadata": {
    "execution": {
     "iopub.execute_input": "2022-04-18T05:17:00.517388Z",
     "iopub.status.busy": "2022-04-18T05:17:00.517091Z",
     "iopub.status.idle": "2022-04-18T05:17:00.544860Z",
     "shell.execute_reply": "2022-04-18T05:17:00.544394Z"
    },
    "papermill": {
     "duration": 0.072706,
     "end_time": "2022-04-18T05:17:00.546379",
     "exception": false,
     "start_time": "2022-04-18T05:17:00.473673",
     "status": "completed"
    },
    "tags": []
   },
   "outputs": [
    {
     "data": {
      "text/html": [
       "<style type=\"text/css\">\n",
       "</style>\n",
       "<table id=\"T_0339f_\">\n",
       "  <thead>\n",
       "    <tr>\n",
       "      <th class=\"col_heading level0 col0\" >partlor_name</th>\n",
       "      <th class=\"col_heading level0 col1\" >District</th>\n",
       "      <th class=\"col_heading level0 col2\" >unique_menu</th>\n",
       "      <th class=\"col_heading level0 col3\" >price</th>\n",
       "    </tr>\n",
       "  </thead>\n",
       "  <tbody>\n",
       "    <tr>\n",
       "      <td id=\"T_0339f_row0_col0\" class=\"data row0 col0\" >Lawless Burger</td>\n",
       "      <td id=\"T_0339f_row0_col1\" class=\"data row0 col1\" >Menteng</td>\n",
       "      <td id=\"T_0339f_row0_col2\" class=\"data row0 col2\" >The Lemmy</td>\n",
       "      <td id=\"T_0339f_row0_col3\" class=\"data row0 col3\" >105000</td>\n",
       "    </tr>\n",
       "    <tr>\n",
       "      <td id=\"T_0339f_row1_col0\" class=\"data row1 col0\" >Le Burger</td>\n",
       "      <td id=\"T_0339f_row1_col1\" class=\"data row1 col1\" >Sudirman</td>\n",
       "      <td id=\"T_0339f_row1_col2\" class=\"data row1 col2\" >Truffle Burger</td>\n",
       "      <td id=\"T_0339f_row1_col3\" class=\"data row1 col3\" >130000</td>\n",
       "    </tr>\n",
       "    <tr>\n",
       "      <td id=\"T_0339f_row2_col0\" class=\"data row2 col0\" >The Goods Diner</td>\n",
       "      <td id=\"T_0339f_row2_col1\" class=\"data row2 col1\" >SCBD</td>\n",
       "      <td id=\"T_0339f_row2_col2\" class=\"data row2 col2\" >Coffee Rubed Burger</td>\n",
       "      <td id=\"T_0339f_row2_col3\" class=\"data row2 col3\" >120000</td>\n",
       "    </tr>\n",
       "    <tr>\n",
       "      <td id=\"T_0339f_row3_col0\" class=\"data row3 col0\" >JJ Royal Brasserie</td>\n",
       "      <td id=\"T_0339f_row3_col1\" class=\"data row3 col1\" >Karet</td>\n",
       "      <td id=\"T_0339f_row3_col2\" class=\"data row3 col2\" >Western Bacon Cheese Burger</td>\n",
       "      <td id=\"T_0339f_row3_col3\" class=\"data row3 col3\" >110000</td>\n",
       "    </tr>\n",
       "    <tr>\n",
       "      <td id=\"T_0339f_row4_col0\" class=\"data row4 col0\" >Hard Rock Cafe</td>\n",
       "      <td id=\"T_0339f_row4_col1\" class=\"data row4 col1\" >SCBD</td>\n",
       "      <td id=\"T_0339f_row4_col2\" class=\"data row4 col2\" >Original Legendary Burger</td>\n",
       "      <td id=\"T_0339f_row4_col3\" class=\"data row4 col3\" >229000</td>\n",
       "    </tr>\n",
       "  </tbody>\n",
       "</table>\n"
      ],
      "text/plain": [
       "<pandas.io.formats.style.Styler at 0x7f055557b650>"
      ]
     },
     "execution_count": 6,
     "metadata": {},
     "output_type": "execute_result"
    }
   ],
   "source": [
    "#more than IDR 100000\n",
    "burger_price = sqldf(\"SELECT partlor_name, district, unique_menu, price FROM burger WHERE price >= 100000\")\n",
    "burger_price.style.hide_index()"
   ]
  },
  {
   "cell_type": "code",
   "execution_count": 7,
   "id": "d35e2bb4",
   "metadata": {
    "execution": {
     "iopub.execute_input": "2022-04-18T05:17:00.633854Z",
     "iopub.status.busy": "2022-04-18T05:17:00.633450Z",
     "iopub.status.idle": "2022-04-18T05:17:00.662383Z",
     "shell.execute_reply": "2022-04-18T05:17:00.661604Z"
    },
    "papermill": {
     "duration": 0.074497,
     "end_time": "2022-04-18T05:17:00.663977",
     "exception": false,
     "start_time": "2022-04-18T05:17:00.589480",
     "status": "completed"
    },
    "tags": []
   },
   "outputs": [
    {
     "data": {
      "text/html": [
       "<style type=\"text/css\">\n",
       "</style>\n",
       "<table id=\"T_1d9ed_\">\n",
       "  <thead>\n",
       "    <tr>\n",
       "      <th class=\"col_heading level0 col0\" >partlor_name</th>\n",
       "      <th class=\"col_heading level0 col1\" >District</th>\n",
       "      <th class=\"col_heading level0 col2\" >unique_menu</th>\n",
       "      <th class=\"col_heading level0 col3\" >price</th>\n",
       "    </tr>\n",
       "  </thead>\n",
       "  <tbody>\n",
       "    <tr>\n",
       "      <td id=\"T_1d9ed_row0_col0\" class=\"data row0 col0\" >Burger King Hayam Wuruk</td>\n",
       "      <td id=\"T_1d9ed_row0_col1\" class=\"data row0 col1\" >Hayam Wuruk</td>\n",
       "      <td id=\"T_1d9ed_row0_col2\" class=\"data row0 col2\" >Chicken Steakhouse BBQ</td>\n",
       "      <td id=\"T_1d9ed_row0_col3\" class=\"data row0 col3\" >59901</td>\n",
       "    </tr>\n",
       "    <tr>\n",
       "      <td id=\"T_1d9ed_row1_col0\" class=\"data row1 col0\" >Burger King Atrium Plaza</td>\n",
       "      <td id=\"T_1d9ed_row1_col1\" class=\"data row1 col1\" >Senen</td>\n",
       "      <td id=\"T_1d9ed_row1_col2\" class=\"data row1 col2\" >Mushroom Swiss XL</td>\n",
       "      <td id=\"T_1d9ed_row1_col3\" class=\"data row1 col3\" >59901</td>\n",
       "    </tr>\n",
       "    <tr>\n",
       "      <td id=\"T_1d9ed_row2_col0\" class=\"data row2 col0\" >Dope Burger</td>\n",
       "      <td id=\"T_1d9ed_row2_col1\" class=\"data row2 col1\" >Menteng</td>\n",
       "      <td id=\"T_1d9ed_row2_col2\" class=\"data row2 col2\" >All American</td>\n",
       "      <td id=\"T_1d9ed_row2_col3\" class=\"data row2 col3\" >75000</td>\n",
       "    </tr>\n",
       "    <tr>\n",
       "      <td id=\"T_1d9ed_row3_col0\" class=\"data row3 col0\" >Burgreens Menteng</td>\n",
       "      <td id=\"T_1d9ed_row3_col1\" class=\"data row3 col1\" >Menteng</td>\n",
       "      <td id=\"T_1d9ed_row3_col2\" class=\"data row3 col2\" >Mini Trio Vegan Burger</td>\n",
       "      <td id=\"T_1d9ed_row3_col3\" class=\"data row3 col3\" >75000</td>\n",
       "    </tr>\n",
       "    <tr>\n",
       "      <td id=\"T_1d9ed_row4_col0\" class=\"data row4 col0\" >Burgreens Pacific Place</td>\n",
       "      <td id=\"T_1d9ed_row4_col1\" class=\"data row4 col1\" >SCBD</td>\n",
       "      <td id=\"T_1d9ed_row4_col2\" class=\"data row4 col2\" >Mini Trio Vegan Burger</td>\n",
       "      <td id=\"T_1d9ed_row4_col3\" class=\"data row4 col3\" >75000</td>\n",
       "    </tr>\n",
       "    <tr>\n",
       "      <td id=\"T_1d9ed_row5_col0\" class=\"data row5 col0\" >Ask for Patty</td>\n",
       "      <td id=\"T_1d9ed_row5_col1\" class=\"data row5 col1\" >Menteng</td>\n",
       "      <td id=\"T_1d9ed_row5_col2\" class=\"data row5 col2\" >Classic Patty</td>\n",
       "      <td id=\"T_1d9ed_row5_col3\" class=\"data row5 col3\" >60500</td>\n",
       "    </tr>\n",
       "    <tr>\n",
       "      <td id=\"T_1d9ed_row6_col0\" class=\"data row6 col0\" >Johny Rockets</td>\n",
       "      <td id=\"T_1d9ed_row6_col1\" class=\"data row6 col1\" >Karet</td>\n",
       "      <td id=\"T_1d9ed_row6_col2\" class=\"data row6 col2\" >Bacon Cheddar</td>\n",
       "      <td id=\"T_1d9ed_row6_col3\" class=\"data row6 col3\" >72000</td>\n",
       "    </tr>\n",
       "    <tr>\n",
       "      <td id=\"T_1d9ed_row7_col0\" class=\"data row7 col0\" >Belly Bandit To Go</td>\n",
       "      <td id=\"T_1d9ed_row7_col1\" class=\"data row7 col1\" >Menteng</td>\n",
       "      <td id=\"T_1d9ed_row7_col2\" class=\"data row7 col2\" >Bandit Tower</td>\n",
       "      <td id=\"T_1d9ed_row7_col3\" class=\"data row7 col3\" >68000</td>\n",
       "    </tr>\n",
       "    <tr>\n",
       "      <td id=\"T_1d9ed_row8_col0\" class=\"data row8 col0\" >Lucy Beer & Burger Bar</td>\n",
       "      <td id=\"T_1d9ed_row8_col1\" class=\"data row8 col1\" >Sudirman</td>\n",
       "      <td id=\"T_1d9ed_row8_col2\" class=\"data row8 col2\" >Bacon Me Crazy</td>\n",
       "      <td id=\"T_1d9ed_row8_col3\" class=\"data row8 col3\" >68000</td>\n",
       "    </tr>\n",
       "  </tbody>\n",
       "</table>\n"
      ],
      "text/plain": [
       "<pandas.io.formats.style.Styler at 0x7f055788cc50>"
      ]
     },
     "execution_count": 7,
     "metadata": {},
     "output_type": "execute_result"
    }
   ],
   "source": [
    "#between 50000 to 100000\n",
    "burger_price = sqldf(\"SELECT partlor_name, district, unique_menu, price FROM burger WHERE price BETWEEN 50000 AND 100000\")\n",
    "burger_price.style.hide_index()"
   ]
  },
  {
   "cell_type": "code",
   "execution_count": 8,
   "id": "4dc6aa33",
   "metadata": {
    "execution": {
     "iopub.execute_input": "2022-04-18T05:17:00.752455Z",
     "iopub.status.busy": "2022-04-18T05:17:00.752034Z",
     "iopub.status.idle": "2022-04-18T05:17:00.780196Z",
     "shell.execute_reply": "2022-04-18T05:17:00.779730Z"
    },
    "papermill": {
     "duration": 0.074443,
     "end_time": "2022-04-18T05:17:00.781706",
     "exception": false,
     "start_time": "2022-04-18T05:17:00.707263",
     "status": "completed"
    },
    "tags": []
   },
   "outputs": [
    {
     "data": {
      "text/html": [
       "<style type=\"text/css\">\n",
       "</style>\n",
       "<table id=\"T_8708e_\">\n",
       "  <thead>\n",
       "    <tr>\n",
       "      <th class=\"col_heading level0 col0\" >partlor_name</th>\n",
       "      <th class=\"col_heading level0 col1\" >District</th>\n",
       "      <th class=\"col_heading level0 col2\" >unique_menu</th>\n",
       "      <th class=\"col_heading level0 col3\" >price</th>\n",
       "    </tr>\n",
       "  </thead>\n",
       "  <tbody>\n",
       "    <tr>\n",
       "      <td id=\"T_8708e_row0_col0\" class=\"data row0 col0\" >Burger King Grand Indonesia</td>\n",
       "      <td id=\"T_8708e_row0_col1\" class=\"data row0 col1\" >Thamrin</td>\n",
       "      <td id=\"T_8708e_row0_col2\" class=\"data row0 col2\" >Whooper Jr.</td>\n",
       "      <td id=\"T_8708e_row0_col3\" class=\"data row0 col3\" >37273</td>\n",
       "    </tr>\n",
       "    <tr>\n",
       "      <td id=\"T_8708e_row1_col0\" class=\"data row1 col0\" >Burger King Thamrin City</td>\n",
       "      <td id=\"T_8708e_row1_col1\" class=\"data row1 col1\" >Tanah Abang</td>\n",
       "      <td id=\"T_8708e_row1_col2\" class=\"data row1 col2\" >Whooper Jr.</td>\n",
       "      <td id=\"T_8708e_row1_col3\" class=\"data row1 col3\" >37273</td>\n",
       "    </tr>\n",
       "    <tr>\n",
       "      <td id=\"T_8708e_row2_col0\" class=\"data row2 col0\" >Burger King Bendungan Hilir</td>\n",
       "      <td id=\"T_8708e_row2_col1\" class=\"data row2 col1\" >Bendungan Hilir</td>\n",
       "      <td id=\"T_8708e_row2_col2\" class=\"data row2 col2\" >Whooper Jr.</td>\n",
       "      <td id=\"T_8708e_row2_col3\" class=\"data row2 col3\" >37273</td>\n",
       "    </tr>\n",
       "    <tr>\n",
       "      <td id=\"T_8708e_row3_col0\" class=\"data row3 col0\" >Burger King Citywalk Sudirman</td>\n",
       "      <td id=\"T_8708e_row3_col1\" class=\"data row3 col1\" >Sudirman</td>\n",
       "      <td id=\"T_8708e_row3_col2\" class=\"data row3 col2\" >Cheese Burger</td>\n",
       "      <td id=\"T_8708e_row3_col3\" class=\"data row3 col3\" >25000</td>\n",
       "    </tr>\n",
       "    <tr>\n",
       "      <td id=\"T_8708e_row4_col0\" class=\"data row4 col0\" >Burger King Cempaka Putih</td>\n",
       "      <td id=\"T_8708e_row4_col1\" class=\"data row4 col1\" >Cempaka Putih</td>\n",
       "      <td id=\"T_8708e_row4_col2\" class=\"data row4 col2\" >Whooper Jr.</td>\n",
       "      <td id=\"T_8708e_row4_col3\" class=\"data row4 col3\" >37273</td>\n",
       "    </tr>\n",
       "    <tr>\n",
       "      <td id=\"T_8708e_row5_col0\" class=\"data row5 col0\" >Flip Burger</td>\n",
       "      <td id=\"T_8708e_row5_col1\" class=\"data row5 col1\" >Sudirman</td>\n",
       "      <td id=\"T_8708e_row5_col2\" class=\"data row5 col2\" >Cheese Burger</td>\n",
       "      <td id=\"T_8708e_row5_col3\" class=\"data row5 col3\" >40909</td>\n",
       "    </tr>\n",
       "    <tr>\n",
       "      <td id=\"T_8708e_row6_col0\" class=\"data row6 col0\" >Lemoe Burger</td>\n",
       "      <td id=\"T_8708e_row6_col1\" class=\"data row6 col1\" >Cempaka Putih</td>\n",
       "      <td id=\"T_8708e_row6_col2\" class=\"data row6 col2\" >Chicken Cabe Ijo</td>\n",
       "      <td id=\"T_8708e_row6_col3\" class=\"data row6 col3\" >14000</td>\n",
       "    </tr>\n",
       "    <tr>\n",
       "      <td id=\"T_8708e_row7_col0\" class=\"data row7 col0\" >Burger Bener</td>\n",
       "      <td id=\"T_8708e_row7_col1\" class=\"data row7 col1\" >Senen</td>\n",
       "      <td id=\"T_8708e_row7_col2\" class=\"data row7 col2\" >Beef Burger Spicy BBQ Sauce</td>\n",
       "      <td id=\"T_8708e_row7_col3\" class=\"data row7 col3\" >24000</td>\n",
       "    </tr>\n",
       "    <tr>\n",
       "      <td id=\"T_8708e_row8_col0\" class=\"data row8 col0\" >BarBurger</td>\n",
       "      <td id=\"T_8708e_row8_col1\" class=\"data row8 col1\" >Cempaka Putih</td>\n",
       "      <td id=\"T_8708e_row8_col2\" class=\"data row8 col2\" >Barchiz Burger</td>\n",
       "      <td id=\"T_8708e_row8_col3\" class=\"data row8 col3\" >23000</td>\n",
       "    </tr>\n",
       "    <tr>\n",
       "      <td id=\"T_8708e_row9_col0\" class=\"data row9 col0\" >Klenger Burger</td>\n",
       "      <td id=\"T_8708e_row9_col1\" class=\"data row9 col1\" >Senen</td>\n",
       "      <td id=\"T_8708e_row9_col2\" class=\"data row9 col2\" >Super Duper Klenger Burger</td>\n",
       "      <td id=\"T_8708e_row9_col3\" class=\"data row9 col3\" >45000</td>\n",
       "    </tr>\n",
       "    <tr>\n",
       "      <td id=\"T_8708e_row10_col0\" class=\"data row10 col0\" >Gode Burger</td>\n",
       "      <td id=\"T_8708e_row10_col1\" class=\"data row10 col1\" >Pecenongan</td>\n",
       "      <td id=\"T_8708e_row10_col2\" class=\"data row10 col2\" >Pretty Purple Chicken Matah</td>\n",
       "      <td id=\"T_8708e_row10_col3\" class=\"data row10 col3\" >30000</td>\n",
       "    </tr>\n",
       "  </tbody>\n",
       "</table>\n"
      ],
      "text/plain": [
       "<pandas.io.formats.style.Styler at 0x7f0555f5b4d0>"
      ]
     },
     "execution_count": 8,
     "metadata": {},
     "output_type": "execute_result"
    }
   ],
   "source": [
    "#below IDR 100000\n",
    "burger_price = sqldf(\"SELECT partlor_name, district, unique_menu, price FROM burger WHERE price <= 50000\")\n",
    "burger_price.style.hide_index()"
   ]
  },
  {
   "cell_type": "markdown",
   "id": "9e9190aa",
   "metadata": {
    "papermill": {
     "duration": 0.043831,
     "end_time": "2022-04-18T05:17:00.870481",
     "exception": false,
     "start_time": "2022-04-18T05:17:00.826650",
     "status": "completed"
    },
    "tags": []
   },
   "source": [
    "# Facility\n",
    "\n",
    "Last but not least, we chose the restaurant whether we could takeaway, or deliver our food. We also could find out whether these partlor has outdoor seats, smoking room, wifi, and reservation. Last but not least, we researched about poultry with some dietary restriction like alcohol and halal_menu. But this halal menu will not available in other project. We changed to other_poultry instead. \n",
    "\n",
    "Let's take a look for all the facility"
   ]
  },
  {
   "cell_type": "code",
   "execution_count": 9,
   "id": "c46918c8",
   "metadata": {
    "execution": {
     "iopub.execute_input": "2022-04-18T05:17:00.959439Z",
     "iopub.status.busy": "2022-04-18T05:17:00.959174Z",
     "iopub.status.idle": "2022-04-18T05:17:01.017774Z",
     "shell.execute_reply": "2022-04-18T05:17:01.016530Z"
    },
    "papermill": {
     "duration": 0.105407,
     "end_time": "2022-04-18T05:17:01.019780",
     "exception": true,
     "start_time": "2022-04-18T05:17:00.914373",
     "status": "failed"
    },
    "tags": []
   },
   "outputs": [
    {
     "ename": "PandaSQLException",
     "evalue": "(sqlite3.OperationalError) no such column: takeaway\n[SQL: SELECT no, partlor_name, district, takeaway, delivery, outdoor_seat, smoking_area, alcohol_served, wifi, reservation, drive_thru, halal_food FROM burger]\n(Background on this error at: https://sqlalche.me/e/14/e3q8)",
     "output_type": "error",
     "traceback": [
      "\u001b[0;31m---------------------------------------------------------------------------\u001b[0m",
      "\u001b[0;31mOperationalError\u001b[0m                          Traceback (most recent call last)",
      "\u001b[0;32m/opt/conda/lib/python3.7/site-packages/sqlalchemy/engine/base.py\u001b[0m in \u001b[0;36m_execute_context\u001b[0;34m(self, dialect, constructor, statement, parameters, execution_options, *args, **kw)\u001b[0m\n\u001b[1;32m   1808\u001b[0m                     self.dialect.do_execute(\n\u001b[0;32m-> 1809\u001b[0;31m                         \u001b[0mcursor\u001b[0m\u001b[0;34m,\u001b[0m \u001b[0mstatement\u001b[0m\u001b[0;34m,\u001b[0m \u001b[0mparameters\u001b[0m\u001b[0;34m,\u001b[0m \u001b[0mcontext\u001b[0m\u001b[0;34m\u001b[0m\u001b[0;34m\u001b[0m\u001b[0m\n\u001b[0m\u001b[1;32m   1810\u001b[0m                     )\n",
      "\u001b[0;32m/opt/conda/lib/python3.7/site-packages/sqlalchemy/engine/default.py\u001b[0m in \u001b[0;36mdo_execute\u001b[0;34m(self, cursor, statement, parameters, context)\u001b[0m\n\u001b[1;32m    731\u001b[0m     \u001b[0;32mdef\u001b[0m \u001b[0mdo_execute\u001b[0m\u001b[0;34m(\u001b[0m\u001b[0mself\u001b[0m\u001b[0;34m,\u001b[0m \u001b[0mcursor\u001b[0m\u001b[0;34m,\u001b[0m \u001b[0mstatement\u001b[0m\u001b[0;34m,\u001b[0m \u001b[0mparameters\u001b[0m\u001b[0;34m,\u001b[0m \u001b[0mcontext\u001b[0m\u001b[0;34m=\u001b[0m\u001b[0;32mNone\u001b[0m\u001b[0;34m)\u001b[0m\u001b[0;34m:\u001b[0m\u001b[0;34m\u001b[0m\u001b[0;34m\u001b[0m\u001b[0m\n\u001b[0;32m--> 732\u001b[0;31m         \u001b[0mcursor\u001b[0m\u001b[0;34m.\u001b[0m\u001b[0mexecute\u001b[0m\u001b[0;34m(\u001b[0m\u001b[0mstatement\u001b[0m\u001b[0;34m,\u001b[0m \u001b[0mparameters\u001b[0m\u001b[0;34m)\u001b[0m\u001b[0;34m\u001b[0m\u001b[0;34m\u001b[0m\u001b[0m\n\u001b[0m\u001b[1;32m    733\u001b[0m \u001b[0;34m\u001b[0m\u001b[0m\n",
      "\u001b[0;31mOperationalError\u001b[0m: no such column: takeaway",
      "\nThe above exception was the direct cause of the following exception:\n",
      "\u001b[0;31mOperationalError\u001b[0m                          Traceback (most recent call last)",
      "\u001b[0;32m/opt/conda/lib/python3.7/site-packages/pandasql/sqldf.py\u001b[0m in \u001b[0;36m__call__\u001b[0;34m(self, query, env)\u001b[0m\n\u001b[1;32m     60\u001b[0m             \u001b[0;32mtry\u001b[0m\u001b[0;34m:\u001b[0m\u001b[0;34m\u001b[0m\u001b[0;34m\u001b[0m\u001b[0m\n\u001b[0;32m---> 61\u001b[0;31m                 \u001b[0mresult\u001b[0m \u001b[0;34m=\u001b[0m \u001b[0mread_sql\u001b[0m\u001b[0;34m(\u001b[0m\u001b[0mquery\u001b[0m\u001b[0;34m,\u001b[0m \u001b[0mconn\u001b[0m\u001b[0;34m)\u001b[0m\u001b[0;34m\u001b[0m\u001b[0;34m\u001b[0m\u001b[0m\n\u001b[0m\u001b[1;32m     62\u001b[0m             \u001b[0;32mexcept\u001b[0m \u001b[0mDatabaseError\u001b[0m \u001b[0;32mas\u001b[0m \u001b[0mex\u001b[0m\u001b[0;34m:\u001b[0m\u001b[0;34m\u001b[0m\u001b[0;34m\u001b[0m\u001b[0m\n",
      "\u001b[0;32m/opt/conda/lib/python3.7/site-packages/pandas/io/sql.py\u001b[0m in \u001b[0;36mread_sql\u001b[0;34m(sql, con, index_col, coerce_float, params, parse_dates, columns, chunksize)\u001b[0m\n\u001b[1;32m    633\u001b[0m             \u001b[0mparse_dates\u001b[0m\u001b[0;34m=\u001b[0m\u001b[0mparse_dates\u001b[0m\u001b[0;34m,\u001b[0m\u001b[0;34m\u001b[0m\u001b[0;34m\u001b[0m\u001b[0m\n\u001b[0;32m--> 634\u001b[0;31m             \u001b[0mchunksize\u001b[0m\u001b[0;34m=\u001b[0m\u001b[0mchunksize\u001b[0m\u001b[0;34m,\u001b[0m\u001b[0;34m\u001b[0m\u001b[0;34m\u001b[0m\u001b[0m\n\u001b[0m\u001b[1;32m    635\u001b[0m         )\n",
      "\u001b[0;32m/opt/conda/lib/python3.7/site-packages/pandas/io/sql.py\u001b[0m in \u001b[0;36mread_query\u001b[0;34m(self, sql, index_col, coerce_float, parse_dates, params, chunksize, dtype)\u001b[0m\n\u001b[1;32m   1578\u001b[0m \u001b[0;34m\u001b[0m\u001b[0m\n\u001b[0;32m-> 1579\u001b[0;31m         \u001b[0mresult\u001b[0m \u001b[0;34m=\u001b[0m \u001b[0mself\u001b[0m\u001b[0;34m.\u001b[0m\u001b[0mexecute\u001b[0m\u001b[0;34m(\u001b[0m\u001b[0;34m*\u001b[0m\u001b[0margs\u001b[0m\u001b[0;34m)\u001b[0m\u001b[0;34m\u001b[0m\u001b[0;34m\u001b[0m\u001b[0m\n\u001b[0m\u001b[1;32m   1580\u001b[0m         \u001b[0mcolumns\u001b[0m \u001b[0;34m=\u001b[0m \u001b[0mresult\u001b[0m\u001b[0;34m.\u001b[0m\u001b[0mkeys\u001b[0m\u001b[0;34m(\u001b[0m\u001b[0;34m)\u001b[0m\u001b[0;34m\u001b[0m\u001b[0;34m\u001b[0m\u001b[0m\n",
      "\u001b[0;32m/opt/conda/lib/python3.7/site-packages/pandas/io/sql.py\u001b[0m in \u001b[0;36mexecute\u001b[0;34m(self, *args, **kwargs)\u001b[0m\n\u001b[1;32m   1423\u001b[0m         \u001b[0;34m\"\"\"Simple passthrough to SQLAlchemy connectable\"\"\"\u001b[0m\u001b[0;34m\u001b[0m\u001b[0;34m\u001b[0m\u001b[0m\n\u001b[0;32m-> 1424\u001b[0;31m         \u001b[0;32mreturn\u001b[0m \u001b[0mself\u001b[0m\u001b[0;34m.\u001b[0m\u001b[0mconnectable\u001b[0m\u001b[0;34m.\u001b[0m\u001b[0mexecution_options\u001b[0m\u001b[0;34m(\u001b[0m\u001b[0;34m)\u001b[0m\u001b[0;34m.\u001b[0m\u001b[0mexecute\u001b[0m\u001b[0;34m(\u001b[0m\u001b[0;34m*\u001b[0m\u001b[0margs\u001b[0m\u001b[0;34m,\u001b[0m \u001b[0;34m**\u001b[0m\u001b[0mkwargs\u001b[0m\u001b[0;34m)\u001b[0m\u001b[0;34m\u001b[0m\u001b[0;34m\u001b[0m\u001b[0m\n\u001b[0m\u001b[1;32m   1425\u001b[0m \u001b[0;34m\u001b[0m\u001b[0m\n",
      "\u001b[0;32m/opt/conda/lib/python3.7/site-packages/sqlalchemy/engine/base.py\u001b[0m in \u001b[0;36mexecute\u001b[0;34m(self, statement, *multiparams, **params)\u001b[0m\n\u001b[1;32m   1284\u001b[0m                 \u001b[0m_EMPTY_EXECUTION_OPTS\u001b[0m\u001b[0;34m,\u001b[0m\u001b[0;34m\u001b[0m\u001b[0;34m\u001b[0m\u001b[0m\n\u001b[0;32m-> 1285\u001b[0;31m                 \u001b[0mfuture\u001b[0m\u001b[0;34m=\u001b[0m\u001b[0;32mFalse\u001b[0m\u001b[0;34m,\u001b[0m\u001b[0;34m\u001b[0m\u001b[0;34m\u001b[0m\u001b[0m\n\u001b[0m\u001b[1;32m   1286\u001b[0m             )\n",
      "\u001b[0;32m/opt/conda/lib/python3.7/site-packages/sqlalchemy/engine/base.py\u001b[0m in \u001b[0;36m_exec_driver_sql\u001b[0;34m(self, statement, multiparams, params, execution_options, future)\u001b[0m\n\u001b[1;32m   1590\u001b[0m             \u001b[0mstatement\u001b[0m\u001b[0;34m,\u001b[0m\u001b[0;34m\u001b[0m\u001b[0;34m\u001b[0m\u001b[0m\n\u001b[0;32m-> 1591\u001b[0;31m             \u001b[0mdistilled_parameters\u001b[0m\u001b[0;34m,\u001b[0m\u001b[0;34m\u001b[0m\u001b[0;34m\u001b[0m\u001b[0m\n\u001b[0m\u001b[1;32m   1592\u001b[0m         )\n",
      "\u001b[0;32m/opt/conda/lib/python3.7/site-packages/sqlalchemy/engine/base.py\u001b[0m in \u001b[0;36m_execute_context\u001b[0;34m(self, dialect, constructor, statement, parameters, execution_options, *args, **kw)\u001b[0m\n\u001b[1;32m   1851\u001b[0m             self._handle_dbapi_exception(\n\u001b[0;32m-> 1852\u001b[0;31m                 \u001b[0me\u001b[0m\u001b[0;34m,\u001b[0m \u001b[0mstatement\u001b[0m\u001b[0;34m,\u001b[0m \u001b[0mparameters\u001b[0m\u001b[0;34m,\u001b[0m \u001b[0mcursor\u001b[0m\u001b[0;34m,\u001b[0m \u001b[0mcontext\u001b[0m\u001b[0;34m\u001b[0m\u001b[0;34m\u001b[0m\u001b[0m\n\u001b[0m\u001b[1;32m   1853\u001b[0m             )\n",
      "\u001b[0;32m/opt/conda/lib/python3.7/site-packages/sqlalchemy/engine/base.py\u001b[0m in \u001b[0;36m_handle_dbapi_exception\u001b[0;34m(self, e, statement, parameters, cursor, context)\u001b[0m\n\u001b[1;32m   2032\u001b[0m                 util.raise_(\n\u001b[0;32m-> 2033\u001b[0;31m                     \u001b[0msqlalchemy_exception\u001b[0m\u001b[0;34m,\u001b[0m \u001b[0mwith_traceback\u001b[0m\u001b[0;34m=\u001b[0m\u001b[0mexc_info\u001b[0m\u001b[0;34m[\u001b[0m\u001b[0;36m2\u001b[0m\u001b[0;34m]\u001b[0m\u001b[0;34m,\u001b[0m \u001b[0mfrom_\u001b[0m\u001b[0;34m=\u001b[0m\u001b[0me\u001b[0m\u001b[0;34m\u001b[0m\u001b[0;34m\u001b[0m\u001b[0m\n\u001b[0m\u001b[1;32m   2034\u001b[0m                 )\n",
      "\u001b[0;32m/opt/conda/lib/python3.7/site-packages/sqlalchemy/util/compat.py\u001b[0m in \u001b[0;36mraise_\u001b[0;34m(***failed resolving arguments***)\u001b[0m\n\u001b[1;32m    206\u001b[0m         \u001b[0;32mtry\u001b[0m\u001b[0;34m:\u001b[0m\u001b[0;34m\u001b[0m\u001b[0;34m\u001b[0m\u001b[0m\n\u001b[0;32m--> 207\u001b[0;31m             \u001b[0;32mraise\u001b[0m \u001b[0mexception\u001b[0m\u001b[0;34m\u001b[0m\u001b[0;34m\u001b[0m\u001b[0m\n\u001b[0m\u001b[1;32m    208\u001b[0m         \u001b[0;32mfinally\u001b[0m\u001b[0;34m:\u001b[0m\u001b[0;34m\u001b[0m\u001b[0;34m\u001b[0m\u001b[0m\n",
      "\u001b[0;32m/opt/conda/lib/python3.7/site-packages/sqlalchemy/engine/base.py\u001b[0m in \u001b[0;36m_execute_context\u001b[0;34m(self, dialect, constructor, statement, parameters, execution_options, *args, **kw)\u001b[0m\n\u001b[1;32m   1808\u001b[0m                     self.dialect.do_execute(\n\u001b[0;32m-> 1809\u001b[0;31m                         \u001b[0mcursor\u001b[0m\u001b[0;34m,\u001b[0m \u001b[0mstatement\u001b[0m\u001b[0;34m,\u001b[0m \u001b[0mparameters\u001b[0m\u001b[0;34m,\u001b[0m \u001b[0mcontext\u001b[0m\u001b[0;34m\u001b[0m\u001b[0;34m\u001b[0m\u001b[0m\n\u001b[0m\u001b[1;32m   1810\u001b[0m                     )\n",
      "\u001b[0;32m/opt/conda/lib/python3.7/site-packages/sqlalchemy/engine/default.py\u001b[0m in \u001b[0;36mdo_execute\u001b[0;34m(self, cursor, statement, parameters, context)\u001b[0m\n\u001b[1;32m    731\u001b[0m     \u001b[0;32mdef\u001b[0m \u001b[0mdo_execute\u001b[0m\u001b[0;34m(\u001b[0m\u001b[0mself\u001b[0m\u001b[0;34m,\u001b[0m \u001b[0mcursor\u001b[0m\u001b[0;34m,\u001b[0m \u001b[0mstatement\u001b[0m\u001b[0;34m,\u001b[0m \u001b[0mparameters\u001b[0m\u001b[0;34m,\u001b[0m \u001b[0mcontext\u001b[0m\u001b[0;34m=\u001b[0m\u001b[0;32mNone\u001b[0m\u001b[0;34m)\u001b[0m\u001b[0;34m:\u001b[0m\u001b[0;34m\u001b[0m\u001b[0;34m\u001b[0m\u001b[0m\n\u001b[0;32m--> 732\u001b[0;31m         \u001b[0mcursor\u001b[0m\u001b[0;34m.\u001b[0m\u001b[0mexecute\u001b[0m\u001b[0;34m(\u001b[0m\u001b[0mstatement\u001b[0m\u001b[0;34m,\u001b[0m \u001b[0mparameters\u001b[0m\u001b[0;34m)\u001b[0m\u001b[0;34m\u001b[0m\u001b[0;34m\u001b[0m\u001b[0m\n\u001b[0m\u001b[1;32m    733\u001b[0m \u001b[0;34m\u001b[0m\u001b[0m\n",
      "\u001b[0;31mOperationalError\u001b[0m: (sqlite3.OperationalError) no such column: takeaway\n[SQL: SELECT no, partlor_name, district, takeaway, delivery, outdoor_seat, smoking_area, alcohol_served, wifi, reservation, drive_thru, halal_food FROM burger]\n(Background on this error at: https://sqlalche.me/e/14/e3q8)",
      "\nDuring handling of the above exception, another exception occurred:\n",
      "\u001b[0;31mPandaSQLException\u001b[0m                         Traceback (most recent call last)",
      "\u001b[0;32m/tmp/ipykernel_19/2053324176.py\u001b[0m in \u001b[0;36m<module>\u001b[0;34m\u001b[0m\n\u001b[0;32m----> 1\u001b[0;31m \u001b[0mburger\u001b[0m \u001b[0;34m=\u001b[0m \u001b[0msqldf\u001b[0m\u001b[0;34m(\u001b[0m\u001b[0;34m\"SELECT no, partlor_name, district, takeaway, delivery, outdoor_seat, smoking_area, alcohol_served, wifi, reservation, drive_thru, halal_food FROM burger\"\u001b[0m\u001b[0;34m)\u001b[0m\u001b[0;34m\u001b[0m\u001b[0;34m\u001b[0m\u001b[0m\n\u001b[0m\u001b[1;32m      2\u001b[0m \u001b[0mburger\u001b[0m\u001b[0;34m.\u001b[0m\u001b[0mstyle\u001b[0m\u001b[0;34m.\u001b[0m\u001b[0mhide_index\u001b[0m\u001b[0;34m(\u001b[0m\u001b[0;34m)\u001b[0m\u001b[0;34m\u001b[0m\u001b[0;34m\u001b[0m\u001b[0m\n",
      "\u001b[0;32m/opt/conda/lib/python3.7/site-packages/pandasql/sqldf.py\u001b[0m in \u001b[0;36msqldf\u001b[0;34m(query, env, db_uri)\u001b[0m\n\u001b[1;32m    154\u001b[0m     \u001b[0;34m>>\u001b[0m\u001b[0;34m>\u001b[0m \u001b[0msqldf\u001b[0m\u001b[0;34m(\u001b[0m\u001b[0;34m\"select avg(x) from df;\"\u001b[0m\u001b[0;34m,\u001b[0m \u001b[0mlocals\u001b[0m\u001b[0;34m(\u001b[0m\u001b[0;34m)\u001b[0m\u001b[0;34m)\u001b[0m\u001b[0;34m\u001b[0m\u001b[0;34m\u001b[0m\u001b[0m\n\u001b[1;32m    155\u001b[0m     \"\"\"\n\u001b[0;32m--> 156\u001b[0;31m     \u001b[0;32mreturn\u001b[0m \u001b[0mPandaSQL\u001b[0m\u001b[0;34m(\u001b[0m\u001b[0mdb_uri\u001b[0m\u001b[0;34m)\u001b[0m\u001b[0;34m(\u001b[0m\u001b[0mquery\u001b[0m\u001b[0;34m,\u001b[0m \u001b[0menv\u001b[0m\u001b[0;34m)\u001b[0m\u001b[0;34m\u001b[0m\u001b[0;34m\u001b[0m\u001b[0m\n\u001b[0m",
      "\u001b[0;32m/opt/conda/lib/python3.7/site-packages/pandasql/sqldf.py\u001b[0m in \u001b[0;36m__call__\u001b[0;34m(self, query, env)\u001b[0m\n\u001b[1;32m     61\u001b[0m                 \u001b[0mresult\u001b[0m \u001b[0;34m=\u001b[0m \u001b[0mread_sql\u001b[0m\u001b[0;34m(\u001b[0m\u001b[0mquery\u001b[0m\u001b[0;34m,\u001b[0m \u001b[0mconn\u001b[0m\u001b[0;34m)\u001b[0m\u001b[0;34m\u001b[0m\u001b[0;34m\u001b[0m\u001b[0m\n\u001b[1;32m     62\u001b[0m             \u001b[0;32mexcept\u001b[0m \u001b[0mDatabaseError\u001b[0m \u001b[0;32mas\u001b[0m \u001b[0mex\u001b[0m\u001b[0;34m:\u001b[0m\u001b[0;34m\u001b[0m\u001b[0;34m\u001b[0m\u001b[0m\n\u001b[0;32m---> 63\u001b[0;31m                 \u001b[0;32mraise\u001b[0m \u001b[0mPandaSQLException\u001b[0m\u001b[0;34m(\u001b[0m\u001b[0mex\u001b[0m\u001b[0;34m)\u001b[0m\u001b[0;34m\u001b[0m\u001b[0;34m\u001b[0m\u001b[0m\n\u001b[0m\u001b[1;32m     64\u001b[0m             \u001b[0;32mexcept\u001b[0m \u001b[0mResourceClosedError\u001b[0m\u001b[0;34m:\u001b[0m\u001b[0;34m\u001b[0m\u001b[0;34m\u001b[0m\u001b[0m\n\u001b[1;32m     65\u001b[0m                 \u001b[0;31m# query returns nothing\u001b[0m\u001b[0;34m\u001b[0m\u001b[0;34m\u001b[0m\u001b[0;34m\u001b[0m\u001b[0m\n",
      "\u001b[0;31mPandaSQLException\u001b[0m: (sqlite3.OperationalError) no such column: takeaway\n[SQL: SELECT no, partlor_name, district, takeaway, delivery, outdoor_seat, smoking_area, alcohol_served, wifi, reservation, drive_thru, halal_food FROM burger]\n(Background on this error at: https://sqlalche.me/e/14/e3q8)"
     ]
    }
   ],
   "source": [
    "burger = sqldf(\"SELECT no, partlor_name, district, takeaway, delivery, outdoor_seat, smoking_area, alcohol_served, wifi, reservation, drive_thru, halal_food FROM burger\")\n",
    "burger.style.hide_index()"
   ]
  },
  {
   "cell_type": "markdown",
   "id": "21245126",
   "metadata": {
    "papermill": {
     "duration": null,
     "end_time": null,
     "exception": null,
     "start_time": null,
     "status": "pending"
    },
    "tags": []
   },
   "source": [
    "Let's take a look for each one of those."
   ]
  },
  {
   "cell_type": "code",
   "execution_count": null,
   "id": "1babfd18",
   "metadata": {
    "execution": {
     "iopub.execute_input": "2022-04-18T05:02:27.088584Z",
     "iopub.status.busy": "2022-04-18T05:02:27.088267Z",
     "iopub.status.idle": "2022-04-18T05:02:27.121953Z",
     "shell.execute_reply": "2022-04-18T05:02:27.121019Z",
     "shell.execute_reply.started": "2022-04-18T05:02:27.088534Z"
    },
    "papermill": {
     "duration": null,
     "end_time": null,
     "exception": null,
     "start_time": null,
     "status": "pending"
    },
    "tags": []
   },
   "outputs": [],
   "source": [
    "#takeaway\n",
    "takeaway = sqldf(\"SELECT partlor_name, district, takeaway FROM burger WHERE takeaway = 'yes'\")\n",
    "takeaway.style.hide_index()"
   ]
  },
  {
   "cell_type": "code",
   "execution_count": null,
   "id": "6dd929aa",
   "metadata": {
    "execution": {
     "iopub.execute_input": "2022-04-18T05:02:30.640332Z",
     "iopub.status.busy": "2022-04-18T05:02:30.640042Z",
     "iopub.status.idle": "2022-04-18T05:02:30.648351Z",
     "shell.execute_reply": "2022-04-18T05:02:30.647644Z",
     "shell.execute_reply.started": "2022-04-18T05:02:30.640299Z"
    },
    "papermill": {
     "duration": null,
     "end_time": null,
     "exception": null,
     "start_time": null,
     "status": "pending"
    },
    "tags": []
   },
   "outputs": [],
   "source": [
    "takeaway.count()"
   ]
  },
  {
   "cell_type": "code",
   "execution_count": null,
   "id": "f19acb4e",
   "metadata": {
    "execution": {
     "iopub.execute_input": "2022-04-18T05:02:33.544643Z",
     "iopub.status.busy": "2022-04-18T05:02:33.544125Z",
     "iopub.status.idle": "2022-04-18T05:02:33.575550Z",
     "shell.execute_reply": "2022-04-18T05:02:33.574609Z",
     "shell.execute_reply.started": "2022-04-18T05:02:33.544605Z"
    },
    "papermill": {
     "duration": null,
     "end_time": null,
     "exception": null,
     "start_time": null,
     "status": "pending"
    },
    "tags": []
   },
   "outputs": [],
   "source": [
    "#delivery\n",
    "delivery = sqldf(\"SELECT partlor_name, district, delivery FROM burger WHERE delivery = 'yes'\")\n",
    "delivery.style.hide_index()"
   ]
  },
  {
   "cell_type": "code",
   "execution_count": null,
   "id": "a8578fbb",
   "metadata": {
    "execution": {
     "iopub.execute_input": "2022-04-18T05:02:37.189873Z",
     "iopub.status.busy": "2022-04-18T05:02:37.189200Z",
     "iopub.status.idle": "2022-04-18T05:02:37.197928Z",
     "shell.execute_reply": "2022-04-18T05:02:37.197109Z",
     "shell.execute_reply.started": "2022-04-18T05:02:37.189792Z"
    },
    "papermill": {
     "duration": null,
     "end_time": null,
     "exception": null,
     "start_time": null,
     "status": "pending"
    },
    "tags": []
   },
   "outputs": [],
   "source": [
    "delivery.count()"
   ]
  },
  {
   "cell_type": "code",
   "execution_count": null,
   "id": "c7a11c1b",
   "metadata": {
    "execution": {
     "iopub.execute_input": "2022-04-18T05:02:43.539757Z",
     "iopub.status.busy": "2022-04-18T05:02:43.539011Z",
     "iopub.status.idle": "2022-04-18T05:02:43.574588Z",
     "shell.execute_reply": "2022-04-18T05:02:43.573907Z",
     "shell.execute_reply.started": "2022-04-18T05:02:43.539712Z"
    },
    "papermill": {
     "duration": null,
     "end_time": null,
     "exception": null,
     "start_time": null,
     "status": "pending"
    },
    "tags": []
   },
   "outputs": [],
   "source": [
    "#outdoor_seat\n",
    "outdoor_seat = sqldf(\"SELECT partlor_name, district, outdoor_seat FROM burger WHERE outdoor_seat = 'yes'\")\n",
    "outdoor_seat.style.hide_index()"
   ]
  },
  {
   "cell_type": "code",
   "execution_count": null,
   "id": "a82ac72c",
   "metadata": {
    "execution": {
     "iopub.execute_input": "2022-04-18T05:01:37.529115Z",
     "iopub.status.busy": "2022-04-18T05:01:37.528314Z",
     "iopub.status.idle": "2022-04-18T05:01:37.537330Z",
     "shell.execute_reply": "2022-04-18T05:01:37.536641Z",
     "shell.execute_reply.started": "2022-04-18T05:01:37.529065Z"
    },
    "papermill": {
     "duration": null,
     "end_time": null,
     "exception": null,
     "start_time": null,
     "status": "pending"
    },
    "tags": []
   },
   "outputs": [],
   "source": [
    "outdoor_seat.count()"
   ]
  },
  {
   "cell_type": "code",
   "execution_count": null,
   "id": "3b89c177",
   "metadata": {
    "execution": {
     "iopub.execute_input": "2022-04-18T05:02:48.730959Z",
     "iopub.status.busy": "2022-04-18T05:02:48.730525Z",
     "iopub.status.idle": "2022-04-18T05:02:48.765405Z",
     "shell.execute_reply": "2022-04-18T05:02:48.764343Z",
     "shell.execute_reply.started": "2022-04-18T05:02:48.730927Z"
    },
    "papermill": {
     "duration": null,
     "end_time": null,
     "exception": null,
     "start_time": null,
     "status": "pending"
    },
    "tags": []
   },
   "outputs": [],
   "source": [
    "#smoking_area\n",
    "smoking_area = sqldf(\"SELECT partlor_name, district, smoking_area FROM burger WHERE smoking_area = 'yes'\")\n",
    "smoking_area.style.hide_index()"
   ]
  },
  {
   "cell_type": "code",
   "execution_count": null,
   "id": "5ba9ca1c",
   "metadata": {
    "execution": {
     "iopub.execute_input": "2022-04-18T05:01:37.761627Z",
     "iopub.status.busy": "2022-04-18T05:01:37.761192Z",
     "iopub.status.idle": "2022-04-18T05:01:37.769823Z",
     "shell.execute_reply": "2022-04-18T05:01:37.769092Z",
     "shell.execute_reply.started": "2022-04-18T05:01:37.761584Z"
    },
    "papermill": {
     "duration": null,
     "end_time": null,
     "exception": null,
     "start_time": null,
     "status": "pending"
    },
    "tags": []
   },
   "outputs": [],
   "source": [
    "smoking_area.count()"
   ]
  },
  {
   "cell_type": "code",
   "execution_count": null,
   "id": "6df21926",
   "metadata": {
    "execution": {
     "iopub.execute_input": "2022-04-18T05:02:54.057535Z",
     "iopub.status.busy": "2022-04-18T05:02:54.057243Z",
     "iopub.status.idle": "2022-04-18T05:02:54.086779Z",
     "shell.execute_reply": "2022-04-18T05:02:54.086139Z",
     "shell.execute_reply.started": "2022-04-18T05:02:54.057504Z"
    },
    "papermill": {
     "duration": null,
     "end_time": null,
     "exception": null,
     "start_time": null,
     "status": "pending"
    },
    "tags": []
   },
   "outputs": [],
   "source": [
    "#alcohol\n",
    "alcohol = sqldf(\"SELECT partlor_name, district, alcohol_served FROM burger WHERE alcohol_served = 'yes'\")\n",
    "alcohol.style.hide_index()"
   ]
  },
  {
   "cell_type": "code",
   "execution_count": null,
   "id": "a3fe6496",
   "metadata": {
    "execution": {
     "iopub.execute_input": "2022-04-18T05:01:37.912075Z",
     "iopub.status.busy": "2022-04-18T05:01:37.911423Z",
     "iopub.status.idle": "2022-04-18T05:01:37.920259Z",
     "shell.execute_reply": "2022-04-18T05:01:37.919327Z",
     "shell.execute_reply.started": "2022-04-18T05:01:37.912029Z"
    },
    "papermill": {
     "duration": null,
     "end_time": null,
     "exception": null,
     "start_time": null,
     "status": "pending"
    },
    "tags": []
   },
   "outputs": [],
   "source": [
    "alcohol.count()"
   ]
  },
  {
   "cell_type": "code",
   "execution_count": null,
   "id": "7c0d4c78",
   "metadata": {
    "execution": {
     "iopub.execute_input": "2022-04-18T05:02:57.521208Z",
     "iopub.status.busy": "2022-04-18T05:02:57.520607Z",
     "iopub.status.idle": "2022-04-18T05:02:57.553114Z",
     "shell.execute_reply": "2022-04-18T05:02:57.552316Z",
     "shell.execute_reply.started": "2022-04-18T05:02:57.521163Z"
    },
    "papermill": {
     "duration": null,
     "end_time": null,
     "exception": null,
     "start_time": null,
     "status": "pending"
    },
    "tags": []
   },
   "outputs": [],
   "source": [
    "#wifi\n",
    "wifi = sqldf(\"SELECT partlor_name, district, wifi FROM burger WHERE wifi = 'yes'\")\n",
    "wifi.style.hide_index()"
   ]
  },
  {
   "cell_type": "code",
   "execution_count": null,
   "id": "dd293f9b",
   "metadata": {
    "execution": {
     "iopub.execute_input": "2022-04-18T05:01:38.038818Z",
     "iopub.status.busy": "2022-04-18T05:01:38.038534Z",
     "iopub.status.idle": "2022-04-18T05:01:38.047636Z",
     "shell.execute_reply": "2022-04-18T05:01:38.047020Z",
     "shell.execute_reply.started": "2022-04-18T05:01:38.038788Z"
    },
    "papermill": {
     "duration": null,
     "end_time": null,
     "exception": null,
     "start_time": null,
     "status": "pending"
    },
    "tags": []
   },
   "outputs": [],
   "source": [
    "wifi.count()"
   ]
  },
  {
   "cell_type": "code",
   "execution_count": null,
   "id": "463e6e10",
   "metadata": {
    "execution": {
     "iopub.execute_input": "2022-04-18T05:03:02.639875Z",
     "iopub.status.busy": "2022-04-18T05:03:02.639606Z",
     "iopub.status.idle": "2022-04-18T05:03:02.669425Z",
     "shell.execute_reply": "2022-04-18T05:03:02.668682Z",
     "shell.execute_reply.started": "2022-04-18T05:03:02.639848Z"
    },
    "papermill": {
     "duration": null,
     "end_time": null,
     "exception": null,
     "start_time": null,
     "status": "pending"
    },
    "tags": []
   },
   "outputs": [],
   "source": [
    "#reservation needed\n",
    "reservation = sqldf(\"SELECT partlor_name, district, reservation FROM burger WHERE reservation = 'yes'\")\n",
    "reservation.style.hide_index()"
   ]
  },
  {
   "cell_type": "code",
   "execution_count": null,
   "id": "768fa740",
   "metadata": {
    "execution": {
     "iopub.execute_input": "2022-04-18T05:01:38.168103Z",
     "iopub.status.busy": "2022-04-18T05:01:38.167550Z",
     "iopub.status.idle": "2022-04-18T05:01:38.175614Z",
     "shell.execute_reply": "2022-04-18T05:01:38.175066Z",
     "shell.execute_reply.started": "2022-04-18T05:01:38.168055Z"
    },
    "papermill": {
     "duration": null,
     "end_time": null,
     "exception": null,
     "start_time": null,
     "status": "pending"
    },
    "tags": []
   },
   "outputs": [],
   "source": [
    "reservation.count()"
   ]
  },
  {
   "cell_type": "code",
   "execution_count": null,
   "id": "2cc52713",
   "metadata": {
    "execution": {
     "iopub.execute_input": "2022-04-18T05:03:07.601436Z",
     "iopub.status.busy": "2022-04-18T05:03:07.601159Z",
     "iopub.status.idle": "2022-04-18T05:03:07.632652Z",
     "shell.execute_reply": "2022-04-18T05:03:07.631765Z",
     "shell.execute_reply.started": "2022-04-18T05:03:07.601405Z"
    },
    "papermill": {
     "duration": null,
     "end_time": null,
     "exception": null,
     "start_time": null,
     "status": "pending"
    },
    "tags": []
   },
   "outputs": [],
   "source": [
    "#drive thru\n",
    "drive_thru = sqldf(\"SELECT partlor_name, district, drive_thru FROM burger WHERE drive_thru = 'yes'\")\n",
    "drive_thru.style.hide_index()"
   ]
  },
  {
   "cell_type": "code",
   "execution_count": null,
   "id": "597b106c",
   "metadata": {
    "execution": {
     "iopub.execute_input": "2022-04-18T05:01:38.323470Z",
     "iopub.status.busy": "2022-04-18T05:01:38.322930Z",
     "iopub.status.idle": "2022-04-18T05:01:38.330750Z",
     "shell.execute_reply": "2022-04-18T05:01:38.330042Z",
     "shell.execute_reply.started": "2022-04-18T05:01:38.323435Z"
    },
    "papermill": {
     "duration": null,
     "end_time": null,
     "exception": null,
     "start_time": null,
     "status": "pending"
    },
    "tags": []
   },
   "outputs": [],
   "source": [
    "drive_thru.count()"
   ]
  },
  {
   "cell_type": "code",
   "execution_count": null,
   "id": "9b4afc69",
   "metadata": {
    "execution": {
     "iopub.execute_input": "2022-04-18T05:03:11.989269Z",
     "iopub.status.busy": "2022-04-18T05:03:11.988800Z",
     "iopub.status.idle": "2022-04-18T05:03:12.020718Z",
     "shell.execute_reply": "2022-04-18T05:03:12.019829Z",
     "shell.execute_reply.started": "2022-04-18T05:03:11.989231Z"
    },
    "papermill": {
     "duration": null,
     "end_time": null,
     "exception": null,
     "start_time": null,
     "status": "pending"
    },
    "tags": []
   },
   "outputs": [],
   "source": [
    "#dietary restricted\n",
    "halal_food = sqldf(\"SELECT partlor_name, district, halal_food FROM burger WHERE halal_food = 'no'\")\n",
    "halal_food.style.hide_index()"
   ]
  },
  {
   "cell_type": "code",
   "execution_count": null,
   "id": "63fe0ca2",
   "metadata": {
    "execution": {
     "iopub.execute_input": "2022-04-18T05:03:14.916079Z",
     "iopub.status.busy": "2022-04-18T05:03:14.915790Z",
     "iopub.status.idle": "2022-04-18T05:03:14.925463Z",
     "shell.execute_reply": "2022-04-18T05:03:14.924646Z",
     "shell.execute_reply.started": "2022-04-18T05:03:14.916048Z"
    },
    "papermill": {
     "duration": null,
     "end_time": null,
     "exception": null,
     "start_time": null,
     "status": "pending"
    },
    "tags": []
   },
   "outputs": [],
   "source": [
    "halal_food.count()"
   ]
  },
  {
   "cell_type": "markdown",
   "id": "d52c70cc",
   "metadata": {
    "papermill": {
     "duration": null,
     "end_time": null,
     "exception": null,
     "start_time": null,
     "status": "pending"
    },
    "tags": []
   },
   "source": [
    "That's all for this time. For rating, I count it separately on different file. Temporarily."
   ]
  }
 ],
 "metadata": {
  "kernelspec": {
   "display_name": "Python 3",
   "language": "python",
   "name": "python3"
  },
  "language_info": {
   "codemirror_mode": {
    "name": "ipython",
    "version": 3
   },
   "file_extension": ".py",
   "mimetype": "text/x-python",
   "name": "python",
   "nbconvert_exporter": "python",
   "pygments_lexer": "ipython3",
   "version": "3.7.12"
  },
  "papermill": {
   "default_parameters": {},
   "duration": 12.269834,
   "end_time": "2022-04-18T05:17:01.786274",
   "environment_variables": {},
   "exception": true,
   "input_path": "__notebook__.ipynb",
   "output_path": "__notebook__.ipynb",
   "parameters": {},
   "start_time": "2022-04-18T05:16:49.516440",
   "version": "2.3.4"
  }
 },
 "nbformat": 4,
 "nbformat_minor": 5
}
